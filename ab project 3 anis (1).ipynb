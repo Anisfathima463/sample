{
 "cells": [
  {
   "cell_type": "markdown",
   "metadata": {
    "id": "JiMOis014ju2"
   },
   "source": [
    "# **Project: Customer Segmentation and Personality Analysis**"
   ]
  },
  {
   "cell_type": "markdown",
   "metadata": {
    "id": "5jeCdIpk5blF"
   },
   "source": [
    "## **IMPORT THE LIBRARIES**"
   ]
  },
  {
   "cell_type": "code",
   "execution_count": null,
   "metadata": {
    "id": "LI8fyu9diEXK"
   },
   "outputs": [],
   "source": [
    "import numpy as np\n",
    "import pandas as pd\n",
    "import matplotlib.pyplot as plt\n",
    "import seaborn as sns\n",
    "import warnings\n",
    "warnings.filterwarnings(\"ignore\")\n",
    "from datetime import date\n",
    "from datetime import datetime\n",
    "from yellowbrick.cluster import KElbowVisualizer\n",
    "from sklearn.cluster import KMeans\n",
    "from sklearn.cluster import AgglomerativeClustering\n",
    "from sklearn.metrics import silhouette_score\n",
    "from sklearn.cluster import DBSCAN\n",
    "from sklearn.preprocessing import StandardScaler\n",
    "from sklearn.preprocessing import MinMaxScaler\n",
    "from sklearn import preprocessing\n"
   ]
  },
  {
   "cell_type": "markdown",
   "metadata": {
    "id": "hQZO5ker5hCP"
   },
   "source": [
    "# **EDA**\n",
    "#Read and Pre-process the data"
   ]
  },
  {
   "cell_type": "code",
   "execution_count": null,
   "metadata": {
    "id": "3wn4LcuIie-0"
   },
   "outputs": [],
   "source": [
    "data=pd.read_excel('C:\\\\Users\\\\DELL\\\\Downloads\\\\marketing_campaign1.xlsx')"
   ]
  },
  {
   "cell_type": "code",
   "execution_count": null,
   "metadata": {
    "colab": {
     "base_uri": "https://localhost:8080/",
     "height": 256
    },
    "id": "iMQ4IIUli7su",
    "outputId": "11e841e4-2073-47a4-85a5-fcb05f1d6dee"
   },
   "outputs": [],
   "source": [
    "data.head()\n"
   ]
  },
  {
   "cell_type": "code",
   "execution_count": null,
   "metadata": {
    "colab": {
     "base_uri": "https://localhost:8080/"
    },
    "id": "L6MVyAO9fFlz",
    "outputId": "ad21067f-bf4d-4764-9ab9-b677749be5f3"
   },
   "outputs": [],
   "source": [
    "data.columns"
   ]
  },
  {
   "cell_type": "markdown",
   "metadata": {
    "id": "cERK6eA55uBH"
   },
   "source": [
    "## Data Dimensions"
   ]
  },
  {
   "cell_type": "code",
   "execution_count": null,
   "metadata": {
    "colab": {
     "base_uri": "https://localhost:8080/"
    },
    "id": "aXCzYBU7e9is",
    "outputId": "7780393d-3456-4495-eb99-ca8d072e0cba"
   },
   "outputs": [],
   "source": [
    "data.shape"
   ]
  },
  {
   "cell_type": "markdown",
   "metadata": {
    "id": "W1sJGlw25z7p"
   },
   "source": [
    "## Non-Null Count and Data Types"
   ]
  },
  {
   "cell_type": "code",
   "execution_count": null,
   "metadata": {
    "colab": {
     "base_uri": "https://localhost:8080/"
    },
    "id": "AsX68n9Xfo2t",
    "outputId": "41c8143c-6000-40e8-e112-4e1bd1f8e8eb"
   },
   "outputs": [],
   "source": [
    "data.info()"
   ]
  },
  {
   "cell_type": "markdown",
   "metadata": {
    "id": "ExWRp9mYgknw"
   },
   "source": [
    "There are missing values in the column income\n",
    "\n",
    "The data type of the column year_birth should be in datetime format, here it is given as int"
   ]
  },
  {
   "cell_type": "markdown",
   "metadata": {
    "id": "0LpnSuV06exw"
   },
   "source": [
    "## Converting column Year_Birth to DateTime format"
   ]
  },
  {
   "cell_type": "code",
   "execution_count": null,
   "metadata": {
    "id": "W5jxnyuOf-Sl"
   },
   "outputs": [],
   "source": [
    "data['Year_Birth'] = pd.to_datetime(data['Year_Birth'], format ='%Y')"
   ]
  },
  {
   "cell_type": "markdown",
   "metadata": {
    "id": "hxd5xf9s6jsH"
   },
   "source": [
    "##Missing values"
   ]
  },
  {
   "cell_type": "code",
   "execution_count": null,
   "metadata": {
    "colab": {
     "base_uri": "https://localhost:8080/"
    },
    "id": "k3FOYv9ShzU1",
    "outputId": "7175d065-41a3-4d29-c528-301b1487d9b1"
   },
   "outputs": [],
   "source": [
    "data.isnull().sum()"
   ]
  },
  {
   "cell_type": "markdown",
   "metadata": {
    "id": "a7ZJWqi0h2Jd"
   },
   "source": [
    "###24 missing values in the column income"
   ]
  },
  {
   "cell_type": "markdown",
   "metadata": {
    "id": "m_FMBY2N6okW"
   },
   "source": [
    "##Checking for skewness"
   ]
  },
  {
   "cell_type": "code",
   "execution_count": null,
   "metadata": {
    "colab": {
     "base_uri": "https://localhost:8080/"
    },
    "id": "adbYsirth8t0",
    "outputId": "a12a8aad-d9e8-40d1-85d6-72834482f265"
   },
   "outputs": [],
   "source": [
    "data['Income'].skew()"
   ]
  },
  {
   "cell_type": "markdown",
   "metadata": {
    "id": "q4U9J7XRiDw9"
   },
   "source": [
    "###Since the data set is skewed, we should replace the missing values with median"
   ]
  },
  {
   "cell_type": "markdown",
   "metadata": {
    "id": "_v0zJ_rt6zLv"
   },
   "source": [
    "##Imputing the missing values"
   ]
  },
  {
   "cell_type": "code",
   "execution_count": null,
   "metadata": {
    "id": "dxyJw6y3iaMI"
   },
   "outputs": [],
   "source": [
    "data['Income'].fillna(data['Income'].median(), inplace = True)"
   ]
  },
  {
   "cell_type": "code",
   "execution_count": null,
   "metadata": {
    "colab": {
     "base_uri": "https://localhost:8080/"
    },
    "id": "Q15ZIAEIien2",
    "outputId": "40260c54-16e9-4717-f583-73028cea9ccc"
   },
   "outputs": [],
   "source": [
    "data.info()"
   ]
  },
  {
   "cell_type": "markdown",
   "metadata": {
    "id": "fVUcnjMv62Hu"
   },
   "source": [
    "##Unique Values"
   ]
  },
  {
   "cell_type": "code",
   "execution_count": null,
   "metadata": {
    "colab": {
     "base_uri": "https://localhost:8080/"
    },
    "id": "laAmhRZpjEKO",
    "outputId": "b6332009-2b78-43c0-8a43-d91a63e8941c"
   },
   "outputs": [],
   "source": [
    "data.nunique()"
   ]
  },
  {
   "cell_type": "markdown",
   "metadata": {
    "id": "WTjSOp9Z64_m"
   },
   "source": [
    "##Value Counts"
   ]
  },
  {
   "cell_type": "code",
   "execution_count": null,
   "metadata": {
    "colab": {
     "base_uri": "https://localhost:8080/"
    },
    "id": "AS1cgqtnjntj",
    "outputId": "80532551-4274-4cf8-f817-9e9ed663d93d"
   },
   "outputs": [],
   "source": [
    "columns=['Education', 'Marital_Status', 'Kidhome', 'Teenhome', 'Complain']\n",
    "for col in columns:\n",
    "    print(f\"Value counts for column '{col}':\")\n",
    "    print(data[col].value_counts())\n",
    "    print()"
   ]
  },
  {
   "cell_type": "markdown",
   "metadata": {
    "id": "ZUw_QogR67o2"
   },
   "source": [
    "##Duplicated Rows"
   ]
  },
  {
   "cell_type": "code",
   "execution_count": null,
   "metadata": {
    "colab": {
     "base_uri": "https://localhost:8080/"
    },
    "id": "bZCv1DDDk_Cw",
    "outputId": "580a5675-6784-494f-cb05-700b025a6821"
   },
   "outputs": [],
   "source": [
    "data.duplicated().sum()"
   ]
  },
  {
   "cell_type": "markdown",
   "metadata": {
    "id": "htRtE6hO6-Zv"
   },
   "source": [
    "#Data Understanding"
   ]
  },
  {
   "cell_type": "markdown",
   "metadata": {
    "id": "4hww3nPm7GUG"
   },
   "source": [
    "##Summary Statistics"
   ]
  },
  {
   "cell_type": "code",
   "execution_count": null,
   "metadata": {
    "colab": {
     "base_uri": "https://localhost:8080/",
     "height": 454
    },
    "id": "Rz0KxATqlERw",
    "outputId": "6556d295-e7f3-49cb-ce31-534d3cdf8349"
   },
   "outputs": [],
   "source": [
    "data.describe()"
   ]
  },
  {
   "cell_type": "markdown",
   "metadata": {
    "id": "tGUkFdWM7PeH"
   },
   "source": [
    "##Feature Transformation"
   ]
  },
  {
   "cell_type": "markdown",
   "metadata": {
    "id": "LA1-lLm9pk0O"
   },
   "source": [
    "###Creating new columns like Age, Year joined, Month joined etc"
   ]
  },
  {
   "cell_type": "code",
   "execution_count": null,
   "metadata": {
    "id": "WgHgzbTropG1"
   },
   "outputs": [],
   "source": [
    "from datetime import date\n",
    "from datetime import datetime\n",
    "data['Age'] = datetime.now().year - data[\"Year_Birth\"].dt.year\n",
    "data['Total_yearCust'] = datetime.now().year - (data['Dt_Customer'].dt.year)\n",
    "data['Year_Joined'] = data['Dt_Customer'].dt.year\n",
    "data['Month_Joined'] = data['Dt_Customer'].dt.strftime(\"%B\")"
   ]
  },
  {
   "cell_type": "code",
   "execution_count": null,
   "metadata": {
    "id": "nt4vZl6ZFRsD"
   },
   "outputs": [],
   "source": [
    "#Total Expenses made\n",
    "data['Total_Expenses'] = data['MntWines'] + data['MntFruits'] + data['MntMeatProducts'] + data['MntFishProducts'] + data['MntSweetProducts'] + data['MntGoldProds']\n",
    "#Total accepted campaign\n",
    "data['Total_Acc_Cmp'] = data['AcceptedCmp1'] + data['AcceptedCmp2'] + data['AcceptedCmp3'] + data['AcceptedCmp4'] + data['AcceptedCmp5'] + data['Response']\n",
    "# Total number of purchases made\n",
    "data['TotalNumPurchases'] = data['NumWebPurchases'] + data['NumCatalogPurchases'] + data['NumStorePurchases'] + data['NumDealsPurchases']\n",
    "#Total number of children\n",
    "data[\"children\"]=data[\"Kidhome\"]+data[\"Teenhome\"]"
   ]
  },
  {
   "cell_type": "markdown",
   "metadata": {
    "id": "XVd-paaHDX_Z"
   },
   "source": [
    "##Correlation Analysis"
   ]
  },
  {
   "cell_type": "code",
   "execution_count": null,
   "metadata": {
    "colab": {
     "base_uri": "https://localhost:8080/",
     "height": 206
    },
    "id": "p8FDoa21DJKV",
    "outputId": "20039c9a-927d-4d4f-ca64-7c07d220e490"
   },
   "outputs": [],
   "source": [
    "data[['Income', 'Total_Expenses', 'Total_Acc_Cmp',\"TotalNumPurchases\",'Recency']].corr()"
   ]
  },
  {
   "cell_type": "markdown",
   "metadata": {
    "id": "7PftEMN-DgTI"
   },
   "source": [
    "###Income with Total_Expenses and TotalNumPurchases are having a strong positive correlation."
   ]
  },
  {
   "cell_type": "code",
   "execution_count": null,
   "metadata": {
    "colab": {
     "base_uri": "https://localhost:8080/",
     "height": 256
    },
    "id": "ib2UuNx_rJK0",
    "outputId": "1bc5a372-381a-46a5-9a68-0182120667a3"
   },
   "outputs": [],
   "source": [
    "data.head()"
   ]
  },
  {
   "cell_type": "markdown",
   "metadata": {
    "id": "QXuIeJQK7Zw4"
   },
   "source": [
    "##Droping Unwanted Columns"
   ]
  },
  {
   "cell_type": "code",
   "execution_count": null,
   "metadata": {
    "id": "UzH9EfINrnVj"
   },
   "outputs": [],
   "source": [
    "data2=data.copy()\n",
    "data2.drop(['ID' ,'Year_Birth','Dt_Customer','Z_CostContact','Z_Revenue'], axis=1, inplace=True)"
   ]
  },
  {
   "cell_type": "code",
   "execution_count": null,
   "metadata": {
    "colab": {
     "base_uri": "https://localhost:8080/",
     "height": 256
    },
    "id": "vUCgv3C-e68g",
    "outputId": "dd54615f-58f5-459f-997b-f2a54603f89d"
   },
   "outputs": [],
   "source": [
    "data2.head()"
   ]
  },
  {
   "cell_type": "code",
   "execution_count": null,
   "metadata": {
    "colab": {
     "base_uri": "https://localhost:8080/"
    },
    "id": "LxI19BSMjS6M",
    "outputId": "545e6117-df18-40b0-d8e1-7c94969a1ae5"
   },
   "outputs": [],
   "source": [
    "data2.columns"
   ]
  },
  {
   "cell_type": "markdown",
   "metadata": {
    "id": "JWKOnt1Ol_QG"
   },
   "source": [
    "# Data visualization"
   ]
  },
  {
   "cell_type": "code",
   "execution_count": null,
   "metadata": {
    "colab": {
     "base_uri": "https://localhost:8080/",
     "height": 1000
    },
    "id": "s2ZR9jhzmLS8",
    "outputId": "fcf1130d-57ed-41fe-a2b9-07d6c05e8b88"
   },
   "outputs": [],
   "source": [
    "plt.figure(figsize=(12,12))\n",
    "data2['Age'].value_counts().sort_index(ascending=False).plot(kind='barh')\n",
    "plt.title('Age')"
   ]
  },
  {
   "cell_type": "markdown",
   "metadata": {
    "id": "CMcdBfsAVEsD"
   },
   "source": [
    "###We can see from the age graph that most of the customers are from the range of 43–60 years old."
   ]
  },
  {
   "cell_type": "code",
   "execution_count": null,
   "metadata": {
    "colab": {
     "base_uri": "https://localhost:8080/",
     "height": 513
    },
    "id": "12zDYIL2mZt0",
    "outputId": "8581f6d0-26c9-427b-daf3-8835acf469e0"
   },
   "outputs": [],
   "source": [
    "plt.figure(figsize=(10,5))\n",
    "sns.set(style='whitegrid')\n",
    "ax = sns.histplot(data=data, x='Income', binwidth=10000, kde=True)\n",
    "ax.set_title('Income')"
   ]
  },
  {
   "cell_type": "markdown",
   "metadata": {
    "id": "ACYcJdTrUcey"
   },
   "source": [
    "### The above histogram gives us an idea about how the data is distributed across different values or bins.\n",
    "### It allows us to visually identify whether the data is positively skewed (tail to the right), negatively skewed (tail to the left), or approximately symmetric.\n",
    "### Here, we can see that, it is approximately symmetric, normally distributed"
   ]
  },
  {
   "cell_type": "code",
   "execution_count": null,
   "metadata": {
    "colab": {
     "base_uri": "https://localhost:8080/",
     "height": 513
    },
    "id": "hDBK4vWLQi7e",
    "outputId": "31061f2c-cb8f-4e13-dbae-4691abd13eb0"
   },
   "outputs": [],
   "source": [
    "plt.figure(figsize=(10,5))\n",
    "sns.set(style='whitegrid')\n",
    "ax = sns.histplot(data=data2, x='Total_Expenses', kde=True,bins=50)\n",
    "ax.set_title('Total_Expenses')"
   ]
  },
  {
   "cell_type": "markdown",
   "metadata": {
    "id": "JZExsrq1CdYZ"
   },
   "source": [
    "### Here, we can see that, Tota_Expenses is positively skewed(tail towards right side)"
   ]
  },
  {
   "cell_type": "code",
   "execution_count": null,
   "metadata": {
    "colab": {
     "base_uri": "https://localhost:8080/",
     "height": 496
    },
    "id": "Jh6mYrl9q892",
    "outputId": "935315fb-f468-46b8-f894-f230781309a3"
   },
   "outputs": [],
   "source": [
    "plt.figure(figsize=(10,5))\n",
    "sns.set(style='whitegrid')\n",
    "ax = sns.countplot(data=data, x='Education', saturation=1, alpha=0.9, palette='deep', order=data['Education'].value_counts().index)\n",
    "ax.set_title('Education')\n",
    "for p in ax.patches:\n",
    "    number = '{}'.format(p.get_height().astype('int64'))\n",
    "    ax.annotate(number, (p.get_x() + p.get_width()/2., p.get_height()), ha='center', va='center',\n",
    "    xytext=(0,5), textcoords='offset points', color='black', fontweight='semibold', fontsize=9)"
   ]
  },
  {
   "cell_type": "markdown",
   "metadata": {
    "id": "ShuMoThpCpmv"
   },
   "source": [
    "### Most of the people have completed their Graduations and only 54 people have did basic eduaction."
   ]
  },
  {
   "cell_type": "code",
   "execution_count": null,
   "metadata": {
    "colab": {
     "base_uri": "https://localhost:8080/",
     "height": 496
    },
    "id": "1Ar4DxJVmvko",
    "outputId": "a049ca36-c3d4-4d4e-b615-4a2a1529c6e0"
   },
   "outputs": [],
   "source": [
    "plt.figure(figsize=(10, 5))\n",
    "sns.set(style='whitegrid')\n",
    "ax = sns.countplot(data=data, x='Marital_Status', saturation=1, alpha=0.9, palette='deep', order=data['Marital_Status'].value_counts().index)\n",
    "ax.set_title('Marital_Status')\n",
    "for p in ax.patches:\n",
    "  number = '{}'.format(p.get_height().astype('int64'))\n",
    "  ax.annotate(number, (p.get_x() + p.get_width()/2., p.get_height()), ha='center', va='center',\n",
    "  xytext=(0,5), textcoords='offset points', color='black', fontweight='semibold', fontsize=9)"
   ]
  },
  {
   "cell_type": "markdown",
   "metadata": {
    "id": "gw2X_vWGC5V3"
   },
   "source": [
    "### Married and Together people are the most, rest category count is less than 500."
   ]
  },
  {
   "cell_type": "code",
   "execution_count": null,
   "metadata": {
    "colab": {
     "base_uri": "https://localhost:8080/",
     "height": 644
    },
    "id": "18KfxfFGnNiZ",
    "outputId": "bf51e746-00a7-4261-b74f-3726d63602b3"
   },
   "outputs": [],
   "source": [
    "plt.figure(figsize=(12,7))\n",
    "ax = data[['MntWines', 'MntFruits', 'MntMeatProducts', 'MntFishProducts', 'MntSweetProducts', 'MntGoldProds']].sum().sort_values(ascending=True).plot(kind='barh')\n",
    "plt.title('Expenses', pad=15, fontsize=18, fontweight='semibold')\n",
    "rects = ax.patches\n",
    "for rect in rects:\n",
    "    x_value = rect.get_width()\n",
    "    y_value = rect.get_y() + rect.get_height() / 2\n",
    "    plt.annotate('{}'.format(x_value), (x_value, y_value), xytext=(-49, 0),\n",
    "    textcoords='offset points', va='center', ha='left', color = 'white', fontsize=11, fontweight='semibold')\n"
   ]
  },
  {
   "cell_type": "markdown",
   "metadata": {
    "id": "3I3UKvJ3aSIA"
   },
   "source": [
    "###Most of the expenses are made on the purchase of wine, while the least are spent on fruits."
   ]
  },
  {
   "cell_type": "code",
   "execution_count": null,
   "metadata": {
    "colab": {
     "base_uri": "https://localhost:8080/",
     "height": 644
    },
    "id": "sjtfK9jX6Oif",
    "outputId": "73cd5262-b07b-40d2-ce49-a90080a06294"
   },
   "outputs": [],
   "source": [
    "plt.figure(figsize=(12,7))\n",
    "ax = data[['NumDealsPurchases', 'NumWebPurchases', 'NumCatalogPurchases',\n",
    "       'NumStorePurchases']].sum().sort_values(ascending=True).plot(kind='barh')\n",
    "plt.title('Total Purchases', pad=15, fontsize=18, fontweight='semibold')\n",
    "rects = ax.patches\n",
    "for rect in rects:\n",
    "    x_value = rect.get_width()\n",
    "    y_value = rect.get_y() + rect.get_height() / 2\n",
    "    plt.annotate('{}'.format(x_value), (x_value, y_value), xytext=(-49, 0),\n",
    "    textcoords='offset points', va='center', ha='left', color = 'white', fontsize=11, fontweight='semibold')\n"
   ]
  },
  {
   "cell_type": "markdown",
   "metadata": {
    "id": "v_vwmZ7PaJMT"
   },
   "source": [
    "###About 12,970 purchases are made directly in stores, while 5,208 are made through deals."
   ]
  },
  {
   "cell_type": "code",
   "execution_count": null,
   "metadata": {
    "colab": {
     "base_uri": "https://localhost:8080/",
     "height": 814
    },
    "id": "SPHrKax53Ato",
    "outputId": "f49f7626-f8ab-4f40-deaf-4ccd83dc370f"
   },
   "outputs": [],
   "source": [
    "ax = data[['Education', 'Total_Expenses']].groupby('Education').sum().sort_values(by='Total_Expenses', ascending=False).plot(kind='bar', figsize=(10,8), legend=None)\n",
    "ax.set_title('Total Expenses by Education Level')\n",
    "ax.set_ylabel('Total Expenses')"
   ]
  },
  {
   "cell_type": "markdown",
   "metadata": {
    "id": "n6Li2uQFZgDp"
   },
   "source": [
    "###Most of the expenses are made by households with graduates, while the least is made by households where individuals have only completed basic education."
   ]
  },
  {
   "cell_type": "code",
   "execution_count": null,
   "metadata": {
    "colab": {
     "base_uri": "https://localhost:8080/",
     "height": 419
    },
    "id": "tla8ZjaXDxxD",
    "outputId": "c1a00dd2-de6e-4fac-86d2-d15765b38f69"
   },
   "outputs": [],
   "source": [
    "plt.figure(figsize=(10, 4))\n",
    "sns.set(style='whitegrid')\n",
    "ax = sns.countplot(data=data2, x='children', saturation=1, alpha=0.9, palette='deep', order=data['children'].value_counts().index)\n",
    "ax.set_title('Children')\n",
    "for p in ax.patches:\n",
    "    number = '{}'.format(p.get_height().astype('int64'))\n",
    "    ax.annotate(number, (p.get_x() + p.get_width()/2., p.get_height()), ha='center', va='center',\n",
    "    xytext=(0,5), textcoords='offset points', color='black', fontweight='semibold', fontsize=10)"
   ]
  },
  {
   "cell_type": "markdown",
   "metadata": {
    "id": "xdVSrzUmDIsV"
   },
   "source": [
    "### About 1128  households have atleast 1 child, about 638 households have no children and about 53 households have 3 children."
   ]
  },
  {
   "cell_type": "code",
   "execution_count": null,
   "metadata": {
    "colab": {
     "base_uri": "https://localhost:8080/",
     "height": 444
    },
    "id": "uhuyQS-mV0Ps",
    "outputId": "cddae6c2-bc03-4cd1-9442-76c20c1feca6"
   },
   "outputs": [],
   "source": [
    "counts = data2['children'].value_counts()\n",
    "plt.figure(figsize=(10, 5))\n",
    "plt.pie(counts, labels=counts.index, autopct='%1.1f%%', startangle=140, colors=sns.color_palette('deep', len(counts)))  # Create the pie chart\n",
    "plt.title('Children')\n",
    "plt.axis('equal')\n",
    "plt.show()"
   ]
  },
  {
   "cell_type": "code",
   "execution_count": null,
   "metadata": {
    "colab": {
     "base_uri": "https://localhost:8080/",
     "height": 716
    },
    "id": "bgiI0RPx0NNU",
    "outputId": "93d4c933-86ab-4b83-b4d7-2ec1c6955fcd"
   },
   "outputs": [],
   "source": [
    "cx = data[['children', 'Total_Expenses']].groupby('children').sum().sort_values(by='Total_Expenses', ascending=False).plot(kind='bar', figsize=(10,8), legend=None)\n",
    "cx.set_ylabel('Total Expenses')"
   ]
  },
  {
   "cell_type": "markdown",
   "metadata": {
    "id": "2REPI6QfDiBY"
   },
   "source": [
    "### Larger Expenses are made by the households that have atleast 1 child."
   ]
  },
  {
   "cell_type": "code",
   "execution_count": null,
   "metadata": {
    "colab": {
     "base_uri": "https://localhost:8080/",
     "height": 797
    },
    "id": "Cjt8P3P40xUy",
    "outputId": "8c96b813-e645-4162-ca91-d18f656714d9"
   },
   "outputs": [],
   "source": [
    "mx = data[['Marital_Status', 'Total_Expenses']].groupby('Marital_Status').sum().sort_values(by='Total_Expenses', ascending=False).plot(kind='bar', figsize=(10,8), legend=None)\n",
    "mx.set_title('Total Expenses made according to maritial status')\n",
    "mx.set_ylabel('Total Expenses')"
   ]
  },
  {
   "cell_type": "markdown",
   "metadata": {
    "id": "X34SQcwhDuSF"
   },
   "source": [
    "### Married and together people contribute most expenses."
   ]
  },
  {
   "cell_type": "code",
   "execution_count": null,
   "metadata": {
    "colab": {
     "base_uri": "https://localhost:8080/",
     "height": 684
    },
    "id": "bypuSxjvDxtG",
    "outputId": "dbcf67dc-bf9a-4526-b699-4a88e42478dc"
   },
   "outputs": [],
   "source": [
    "plt.figure(figsize=(10, 6))\n",
    "sns.heatmap(data[['Income', 'Total_Expenses', 'Total_Acc_Cmp',\"TotalNumPurchases\",'Recency']].corr(), annot=True)"
   ]
  },
  {
   "cell_type": "markdown",
   "metadata": {
    "id": "KQtw4DGvn79o"
   },
   "source": [
    "###The highest correlation is between income and total expenses, followed by total expenses and total accepted campaign.\n"
   ]
  },
  {
   "cell_type": "markdown",
   "metadata": {
    "id": "N2fprCkk4dbU"
   },
   "source": [
    "##Outlier Detection"
   ]
  },
  {
   "cell_type": "code",
   "execution_count": null,
   "metadata": {
    "id": "aIDXs7XA8lb7"
   },
   "outputs": [],
   "source": [
    "bx_col=['Income', 'MntWines', 'MntFruits', 'MntMeatProducts',\n",
    "       'MntFishProducts', 'MntSweetProducts', 'MntGoldProds',\n",
    "       \"Age\", 'Total_Expenses',\"TotalNumPurchases\"]"
   ]
  },
  {
   "cell_type": "code",
   "execution_count": null,
   "metadata": {
    "colab": {
     "base_uri": "https://localhost:8080/",
     "height": 959
    },
    "id": "WHwX0wt1BwLU",
    "outputId": "f11eef13-aaca-44d8-e78d-08a7de028ee9"
   },
   "outputs": [],
   "source": [
    "# Create boxplot visualizations for each numerical column\n",
    "plt.figure(figsize=(8, 14))\n",
    "\n",
    "for i, col in enumerate(bx_col, 1):\n",
    "    plt.subplot(6, 3, i)\n",
    "    plt.boxplot(data2[col])\n",
    "    plt.title(col)\n",
    "\n",
    "plt.tight_layout()\n",
    "plt.show()\n"
   ]
  },
  {
   "cell_type": "code",
   "execution_count": null,
   "metadata": {
    "colab": {
     "base_uri": "https://localhost:8080/"
    },
    "id": "T0zE-1GxAUWO",
    "outputId": "ca0bdbe5-60d2-452a-cedb-745e142f4423"
   },
   "outputs": [],
   "source": [
    "for col in bx_col:\n",
    "    Q1 = data2[col].quantile(0.25)\n",
    "    Q3 = data2[col].quantile(0.75)\n",
    "    IQR = Q3-Q1\n",
    "    LB = Q1-(1.5*IQR)\n",
    "    UB = Q3+(1.5*IQR)\n",
    "    for ind in data2[col].index:\n",
    "        if data2.loc[ind,col]>UB:\n",
    "            data2.loc[ind,col]=UB\n",
    "        elif data2.loc[ind,col]<LB:\n",
    "            data2.loc[ind,col]=LB\n",
    "        else:\n",
    "            pass\n",
    "print(\"Outliers have been replaced with the threshold value.\")"
   ]
  },
  {
   "cell_type": "code",
   "execution_count": null,
   "metadata": {
    "colab": {
     "base_uri": "https://localhost:8080/",
     "height": 256
    },
    "id": "CbtCimZ8TACB",
    "outputId": "2a0b64d6-e328-41a9-a973-6048bede67e2"
   },
   "outputs": [],
   "source": [
    "data2.head()"
   ]
  },
  {
   "cell_type": "markdown",
   "metadata": {
    "id": "W7EEyej44lsy"
   },
   "source": [
    "#Feature Engineering"
   ]
  },
  {
   "cell_type": "code",
   "execution_count": null,
   "metadata": {
    "id": "_ZuLNZIp3wyk"
   },
   "outputs": [],
   "source": [
    "data2[\"Education1\"]=data2[\"Education\"].replace({\"Basic\":\"Basic\",\"2n Cycle\":\"Postgraduation\", \"Graduation\":\"Graduation\", \"Master\":\"Postgraduation\", \"PhD\":\"Postgraduation\"})\n",
    "data2[\"Partner\"]=data2[\"Marital_Status\"].replace({\"Married\":\"Yes\", \"Together\":\"Yes\", \"Absurd\":\"No\", \"Widow\":\"No\", \"YOLO\":\"No\", \"Divorced\":\"No\", \"Single\":\"No\",\"Alone\":\"No\"})\n",
    "data2['Age_Group'] = pd.cut(x = data2['Age'], bins = [24, 44, 64, 100],labels = ['Adult','Middel Aged','Senior Citizen'])\n",
    "data2.drop([\"Marital_Status\",\"Education\"],axis=1, inplace=True)"
   ]
  },
  {
   "cell_type": "code",
   "execution_count": null,
   "metadata": {
    "colab": {
     "base_uri": "https://localhost:8080/"
    },
    "id": "ZAhwTWDRIKr_",
    "outputId": "b5912e77-a558-4216-a9dc-f93bae62b934"
   },
   "outputs": [],
   "source": [
    "data2[\"Age_Group\"].value_counts()"
   ]
  },
  {
   "cell_type": "code",
   "execution_count": null,
   "metadata": {
    "colab": {
     "base_uri": "https://localhost:8080/"
    },
    "id": "SajNhXZpJEIA",
    "outputId": "b5fda768-896b-46d3-9b47-3708bf711f0a"
   },
   "outputs": [],
   "source": [
    "data2[\"Education1\"].value_counts()"
   ]
  },
  {
   "cell_type": "markdown",
   "metadata": {
    "id": "d8-bEjCb4rxa"
   },
   "source": [
    "##Encoding"
   ]
  },
  {
   "cell_type": "code",
   "execution_count": null,
   "metadata": {
    "id": "Hqi7HB5Su_xp"
   },
   "outputs": [],
   "source": [
    "from sklearn import preprocessing\n",
    "label_encoder = preprocessing.LabelEncoder()\n",
    "data2[\"Month_Joined\"]=label_encoder.fit_transform(data2[\"Month_Joined\"])\n",
    "data2[\"Partner\"]=label_encoder.fit_transform(data2[\"Partner\"])\n",
    "data2[\"Education1\"]=label_encoder.fit_transform(data2[\"Education1\"])\n",
    "data2[\"Age_Group\"]=label_encoder.fit_transform(data2[\"Age_Group\"])\n"
   ]
  },
  {
   "cell_type": "code",
   "execution_count": null,
   "metadata": {
    "colab": {
     "base_uri": "https://localhost:8080/"
    },
    "id": "tq98onqXI4LW",
    "outputId": "35f68175-0b57-48df-d1b1-ee6ab16c648c"
   },
   "outputs": [],
   "source": [
    "data2[\"Age_Group\"].value_counts()"
   ]
  },
  {
   "cell_type": "code",
   "execution_count": null,
   "metadata": {
    "colab": {
     "base_uri": "https://localhost:8080/"
    },
    "id": "vFJrATyIJFez",
    "outputId": "7961ed9b-ab3c-482f-dcc1-6b7e419b4259"
   },
   "outputs": [],
   "source": [
    "data2[\"Education1\"].value_counts()"
   ]
  },
  {
   "cell_type": "code",
   "execution_count": null,
   "metadata": {
    "colab": {
     "base_uri": "https://localhost:8080/",
     "height": 256
    },
    "id": "2bvMRnxNvejJ",
    "outputId": "2edc3074-473e-4a9d-80bd-61408d51f714"
   },
   "outputs": [],
   "source": [
    "data2.tail()"
   ]
  },
  {
   "cell_type": "markdown",
   "metadata": {
    "id": "2v_hkq9ANv3u"
   },
   "source": [
    "#Scaling"
   ]
  },
  {
   "cell_type": "code",
   "execution_count": null,
   "metadata": {
    "id": "Xt5prV3ME1__"
   },
   "outputs": [],
   "source": [
    "from sklearn.preprocessing import StandardScaler\n",
    "from sklearn.preprocessing import MinMaxScaler\n",
    "from sklearn import preprocessing\n",
    "label_encoder = preprocessing.LabelEncoder()\n",
    "num_cols = ['Income', 'Recency', 'MntWines', 'MntFruits',\n",
    "       'MntMeatProducts', 'MntFishProducts', 'MntSweetProducts',\n",
    "       'MntGoldProds','Age', 'Total_Expenses']\n",
    "scaler = StandardScaler()\n",
    "#scaler = MinMaxScaler()\n",
    "scaled_data = data2.copy()\n",
    "scaled_data[num_cols] = scaler.fit_transform(scaled_data[num_cols])"
   ]
  },
  {
   "cell_type": "code",
   "execution_count": null,
   "metadata": {
    "colab": {
     "base_uri": "https://localhost:8080/",
     "height": 256
    },
    "id": "vU1K4q1yE2CT",
    "outputId": "3c95e011-5e0f-4611-8693-37a24b2a79ce"
   },
   "outputs": [],
   "source": [
    "scaled_data.head()"
   ]
  },
  {
   "cell_type": "markdown",
   "metadata": {
    "id": "StgKDJxv6EFO"
   },
   "source": [
    "#DBSCAN"
   ]
  },
  {
   "cell_type": "code",
   "execution_count": null,
   "metadata": {
    "colab": {
     "base_uri": "https://localhost:8080/"
    },
    "id": "EinUChk4v9Z7",
    "outputId": "c92e546f-2007-4880-f52f-c567f0b58fea"
   },
   "outputs": [],
   "source": [
    "from sklearn.cluster import DBSCAN\n",
    "from sklearn.metrics import silhouette_score\n",
    "# Perform DBSCAN clustering with different parameters\n",
    "eps_values = [0.3, 0.4, 0.5, 0.6]\n",
    "for eps in eps_values:\n",
    "    for min_samples in range(2, 6):\n",
    "        dbscan = DBSCAN(eps=eps, min_samples=min_samples)\n",
    "        dbscan_labels = dbscan.fit_predict(scaled_data)\n",
    "\n",
    "        n_clusters = len(set(dbscan_labels)) - (1 if -1 in dbscan_labels else 0)\n",
    "        n_noise = list(dbscan_labels).count(-1)\n",
    "\n",
    "        # Calculate silhouette score if there are more than 1 cluster and less than 7 clusters\n",
    "        if 1 < n_clusters < 7:\n",
    "            silhouette_avg = silhouette_score(scaled_data, dbscan_labels)\n",
    "            print(f'eps: {eps}, min_samples: {min_samples}, Estimated number of clusters: {n_clusters}, Estimated number of noise points: {n_noise}, Silhouette Score: {silhouette_avg}')\n"
   ]
  },
  {
   "cell_type": "markdown",
   "metadata": {
    "id": "cnCFpZDl7a0u"
   },
   "source": [
    "### The silhouette score for DBSCAN is consistently low across different values of epsilon (eps) and min_samples, indicating poor clustering quality. The silhouette score is negative, suggesting that the clusters are overlapping, and the data points are poorly matched to their clusters.\n"
   ]
  },
  {
   "cell_type": "markdown",
   "metadata": {
    "id": "TwGZO9h93jM1"
   },
   "source": [
    "#Agglomerative Clustering"
   ]
  },
  {
   "cell_type": "code",
   "execution_count": null,
   "metadata": {
    "colab": {
     "base_uri": "https://localhost:8080/"
    },
    "id": "O0jgBORg0NHa",
    "outputId": "939050e6-03cf-4023-9b0f-9b30b997d07b"
   },
   "outputs": [],
   "source": [
    "from sklearn.cluster import AgglomerativeClustering\n",
    "from sklearn.metrics import silhouette_score\n",
    "clustering = AgglomerativeClustering(n_clusters=None, linkage='ward', affinity='euclidean', distance_threshold=4).fit(scaled_data)\n",
    "cluster_labels = clustering.labels_\n",
    "\n",
    "# Calculate silhouette score\n",
    "silhouette_avg = silhouette_score(scaled_data, cluster_labels)\n",
    "print(f'Silhouette Score: {silhouette_avg}')"
   ]
  },
  {
   "cell_type": "code",
   "execution_count": null,
   "metadata": {
    "colab": {
     "base_uri": "https://localhost:8080/"
    },
    "id": "yveQLTe53cn0",
    "outputId": "d099cfbc-c5d9-48cf-eb28-a6fe5e1e9797"
   },
   "outputs": [],
   "source": [
    "linkage_methods = ['complete', 'average', 'single']\n",
    "distance_metrics = ['manhattan']\n",
    "for linkage in linkage_methods:\n",
    "    for metric in distance_metrics:\n",
    "        for threshold in range(2,5):\n",
    "            # Perform hierarchical clustering\n",
    "            clustering = AgglomerativeClustering(n_clusters=None, linkage=linkage, affinity=metric, distance_threshold=threshold).fit(scaled_data)\n",
    "            cluster_labels = clustering.labels_\n",
    "\n",
    "            # Check if the number of unique labels is greater than 1\n",
    "            if len(set(cluster_labels)) > 1:\n",
    "                # Calculate silhouette score\n",
    "                silhouette_avg = silhouette_score(scaled_data, cluster_labels)\n",
    "                print(f'Linkage: {linkage}, Distance Metric: {metric}, Distance Threshold: {threshold}, Silhouette Score: {silhouette_avg}')"
   ]
  },
  {
   "cell_type": "markdown",
   "metadata": {
    "id": "-Eo9TeKY7iQ9"
   },
   "source": [
    "\n",
    "### The silhouette scores for hierarchical clustering with different linkage methods and distance thresholds vary but generally tend to be higher than DBSCAN. The highest silhouette score which is around 0.20, which is achieved with linkage \"ward\" and a \"eucledian\" distance threshold of 4.\n",
    "\n"
   ]
  },
  {
   "cell_type": "markdown",
   "metadata": {
    "id": "P46lFVyhMkaG"
   },
   "source": [
    "#K Means Clustering"
   ]
  },
  {
   "cell_type": "markdown",
   "metadata": {
    "id": "wDRJ5ul1PtaN"
   },
   "source": [
    "##Elbow Method"
   ]
  },
  {
   "cell_type": "code",
   "execution_count": null,
   "metadata": {
    "colab": {
     "base_uri": "https://localhost:8080/",
     "height": 541
    },
    "id": "BB4KWJFQFMhi",
    "outputId": "6d1af43b-fa44-46be-855c-39ca159505a5"
   },
   "outputs": [],
   "source": [
    "from yellowbrick.cluster import KElbowVisualizer\n",
    "from sklearn.cluster import KMeans\n",
    "elbow_graph = KElbowVisualizer(KMeans(random_state=42), k=10)\n",
    "elbow_graph.fit(scaled_data)\n",
    "elbow_graph.show()"
   ]
  },
  {
   "cell_type": "markdown",
   "metadata": {
    "id": "XHaUrynXKeeq"
   },
   "source": [
    "### Optimum no.of clusters is 5 by elbow curve with an inertia score(sum of squared distances between each data point and its nearest cluster centroid) around 93451"
   ]
  },
  {
   "cell_type": "code",
   "execution_count": null,
   "metadata": {
    "colab": {
     "base_uri": "https://localhost:8080/"
    },
    "id": "cyPqQHypOLG8",
    "outputId": "db59fe4c-18ed-485d-a26d-cc115501d7bd"
   },
   "outputs": [],
   "source": [
    "nc = range(1, 11)\n",
    "l = []\n",
    "for i in nc:\n",
    "    kmeans_model = KMeans(n_clusters=i)\n",
    "    kmeans_model.fit(scaled_data)\n",
    "    l.append(kmeans_model.inertia_)\n",
    "l"
   ]
  },
  {
   "cell_type": "code",
   "execution_count": null,
   "metadata": {
    "colab": {
     "base_uri": "https://localhost:8080/"
    },
    "id": "NEz32CAYKoAS",
    "outputId": "3ef4ddcd-84a1-4467-8eea-d2f8d8d43be9"
   },
   "outputs": [],
   "source": [
    "from sklearn.metrics import silhouette_score\n",
    "kmeans_model=KMeans(n_clusters=5)\n",
    "silhouette_score(scaled_data,kmeans_model.fit_predict(scaled_data))"
   ]
  },
  {
   "cell_type": "code",
   "execution_count": null,
   "metadata": {
    "colab": {
     "base_uri": "https://localhost:8080/"
    },
    "id": "XARZ7hKpCrpN",
    "outputId": "30d46466-d4eb-4342-c305-3487dc095428"
   },
   "outputs": [],
   "source": [
    "kmeans_model=KMeans(n_clusters=4,init='k-means++',random_state = 42)\n",
    "silhouette_score(scaled_data,kmeans_model.fit_predict(scaled_data))"
   ]
  },
  {
   "cell_type": "code",
   "execution_count": null,
   "metadata": {
    "id": "Lj4xtHW8C5Tu"
   },
   "outputs": [],
   "source": [
    "data2['Clusters'] = kmeans_model.fit_predict(scaled_data)"
   ]
  },
  {
   "cell_type": "code",
   "execution_count": null,
   "metadata": {
    "id": "5iDxLNsIK43d"
   },
   "outputs": [],
   "source": [
    "nc=range(2,11)\n",
    "l=[]\n",
    "for i in nc:\n",
    "  kmeans_model=KMeans(n_clusters=i)\n",
    "  l.append(silhouette_score(scaled_data,kmeans_model.fit_predict(scaled_data)))"
   ]
  },
  {
   "cell_type": "code",
   "execution_count": null,
   "metadata": {
    "colab": {
     "base_uri": "https://localhost:8080/"
    },
    "id": "SzHTb442NZQp",
    "outputId": "7e55f8bf-7ba9-4403-ac9f-7b2a7a044bb6"
   },
   "outputs": [],
   "source": [
    "l"
   ]
  },
  {
   "cell_type": "code",
   "execution_count": null,
   "metadata": {
    "colab": {
     "base_uri": "https://localhost:8080/",
     "height": 368
    },
    "id": "kgsitZ6bKoIL",
    "outputId": "e72b256b-3d40-4ca4-a1d3-7aca9e93d1fb"
   },
   "outputs": [],
   "source": [
    "plt.figure(figsize=(10,4))\n",
    "plt.style.use(\"seaborn-darkgrid\")\n",
    "plt.scatter(nc,l,s=100,color=\"black\")\n",
    "plt.plot(nc,l,linestyle=\"-.\")\n",
    "plt.xticks(nc)\n",
    "plt.show()"
   ]
  },
  {
   "cell_type": "markdown",
   "metadata": {
    "id": "i2qNNDX0Eu8E"
   },
   "source": [
    "### This Silhoutte score at k=4 (while not very high) suggests that K-Means is able to form somewhat distinct clusters, but there might still be some overlap or outliers. But this score is higher than the silhouette scores obtained from DBSCAN and hierarchical clustering.\n",
    "### So we can conclude that k-means clustering with k=4  would likely provide better clustering results for this dataset."
   ]
  },
  {
   "cell_type": "code",
   "execution_count": null,
   "metadata": {
    "colab": {
     "base_uri": "https://localhost:8080/",
     "height": 673
    },
    "id": "TsffE3HXTpm-",
    "outputId": "b251be71-6e36-45fc-d536-cf3312476d54"
   },
   "outputs": [],
   "source": [
    "selected_features = ['Income', 'Total_Expenses', 'TotalNumPurchases']\n",
    "X_subset = scaled_data[selected_features]\n",
    "# Apply K-Means clustering\n",
    "kmeans = KMeans(n_clusters=4)\n",
    "kmeans.fit(X_subset)\n",
    "# Plot clusters in 3D\n",
    "fig = plt.figure(figsize=(10, 8))\n",
    "ax = fig.add_subplot(111, projection='3d')\n",
    "# Plot data points with cluster colors\n",
    "sc = ax.scatter(X_subset['Income'], X_subset['Total_Expenses'], X_subset['TotalNumPurchases'],\n",
    "                c=kmeans.labels_, cmap='viridis', s=50, alpha=0.7)\n",
    "\n",
    "ax.set_xlabel('Income')\n",
    "ax.set_ylabel('Total Expenses')\n",
    "ax.set_zlabel('Total Purchases')\n",
    "ax.set_title('K-Means Clustering without Dimensionality Reduction (3D)')\n",
    "\n",
    "# Add legend for clusters\n",
    "legend1 = ax.legend(*sc.legend_elements(), title=\"Clusters \")\n",
    "ax.add_artist(legend1)\n",
    "\n",
    "plt.show()\n"
   ]
  },
  {
   "cell_type": "code",
   "execution_count": null,
   "metadata": {
    "colab": {
     "base_uri": "https://localhost:8080/",
     "height": 981
    },
    "id": "YuVvLUU0ZIPc",
    "outputId": "8711a44a-2588-4bc1-95aa-aa1b6629d1b3"
   },
   "outputs": [],
   "source": [
    "from mpl_toolkits.mplot3d import Axes3D\n",
    "from sklearn.decomposition import PCA\n",
    "# Appling PCA\n",
    "pca = PCA(n_components=3)\n",
    "X_pca = pca.fit_transform(scaled_data)\n",
    "# Apply K-Means clustering\n",
    "kmeans = KMeans(n_clusters=4)\n",
    "kmeans.fit(X_pca)\n",
    "# Plot clusters in 3D\n",
    "fig = plt.figure(figsize=(12, 12))\n",
    "ax = fig.add_subplot(111, projection='3d')\n",
    "# Plot data points\n",
    "sc = ax.scatter(X_pca[:, 0], X_pca[:, 1], X_pca[:, 2], c=kmeans.labels_, cmap='viridis', s=50, alpha=0.7)\n",
    "\n",
    "# Plot cluster centers\n",
    "ax.scatter(kmeans.cluster_centers_[:, 0], kmeans.cluster_centers_[:, 1], kmeans.cluster_centers_[:, 2],\n",
    "           marker='^', c='red', s=200, label='Centers                      ')\n",
    "legend1 = ax.legend(*sc.legend_elements(), title=\"Clusters\")\n",
    "ax.add_artist(legend1)\n",
    "ax.set_xlabel('Principal Component 1')\n",
    "ax.set_ylabel('Principal Component 2')\n",
    "ax.set_zlabel('Principal Component 3')\n",
    "ax.set_title('K-Means Clustering with PCA (3D)')\n",
    "plt.legend()\n",
    "plt.show()"
   ]
  },
  {
   "cell_type": "code",
   "execution_count": null,
   "metadata": {
    "colab": {
     "base_uri": "https://localhost:8080/"
    },
    "id": "ZFi9VVqnM7yQ",
    "outputId": "994a80a1-4332-4e59-f9e1-a36aa2717036"
   },
   "outputs": [],
   "source": [
    "data2[\"Clusters\"].value_counts()"
   ]
  },
  {
   "cell_type": "code",
   "execution_count": null,
   "metadata": {
    "colab": {
     "base_uri": "https://localhost:8080/",
     "height": 716
    },
    "id": "uyx8GA-4NKc6",
    "outputId": "41a18f2a-4fc0-4fb6-cbf8-25706d78bf40"
   },
   "outputs": [],
   "source": [
    "# count plot to see number of customers in each cluster\n",
    "plt.figure(figsize=(12, 8))\n",
    "sns.countplot(x='Clusters', data=data2,palette=\"deep\")\n",
    "plt.title('Customer in each clusters')\n",
    "plt.show()"
   ]
  },
  {
   "cell_type": "markdown",
   "metadata": {
    "id": "kTyzovNhOqQK"
   },
   "source": [
    "### Cluster 0 has the highest number of customers, followed by cluster 1."
   ]
  },
  {
   "cell_type": "code",
   "execution_count": null,
   "metadata": {
    "colab": {
     "base_uri": "https://localhost:8080/",
     "height": 1000
    },
    "id": "-4PdG4QTOXEf",
    "outputId": "ed8696db-0d92-4467-e3d6-cc3b97e50089"
   },
   "outputs": [],
   "source": [
    "cols1 = ['Kidhome', 'Teenhome', 'Partner', 'Education1','children',\"Age_Group\"]\n",
    "fig, axes = plt.subplots(len(cols1), 1, figsize=(10, 5*len(cols1)))\n",
    "for i, col in enumerate(cols1):\n",
    "    sns.countplot(x='Clusters', data=data2, ax=axes[i], hue=col,palette='deep')\n",
    "    axes[i].set_title(f'{col} vs Clusters')\n",
    "plt.tight_layout()\n",
    "plt.show()"
   ]
  },
  {
   "cell_type": "code",
   "execution_count": null,
   "metadata": {
    "colab": {
     "base_uri": "https://localhost:8080/",
     "height": 1000
    },
    "id": "2EPT_JLaF9dC",
    "outputId": "49a5b6bc-6ea5-46ce-937f-b98c30b835c0"
   },
   "outputs": [],
   "source": [
    "cols2 = ['Income', 'Total_Expenses', 'Total_Acc_Cmp', 'TotalNumPurchases']\n",
    "fig, axes = plt.subplots(len(cols2), 1, figsize=(10, 4*len(cols2)))\n",
    "for i, col in enumerate(cols2):\n",
    "    sns.barplot(x='Clusters', y=col, data=data2, ax=axes[i],palette=\"deep\")\n",
    "    axes[i].set_title(f'{col} vs Clusters')\n",
    "\n",
    "plt.tight_layout()\n",
    "plt.show()"
   ]
  },
  {
   "cell_type": "code",
   "execution_count": null,
   "metadata": {
    "colab": {
     "base_uri": "https://localhost:8080/",
     "height": 1000
    },
    "id": "ikoixsofKVh2",
    "outputId": "3af2a511-87fc-4fd1-8428-6daf04ff26d7"
   },
   "outputs": [],
   "source": [
    "cols3 = ['MntWines', 'MntFruits', 'MntMeatProducts',\n",
    "         'MntFishProducts', 'MntSweetProducts', 'MntGoldProds',\n",
    "         'Total_Expenses', 'Total_Acc_Cmp', 'TotalNumPurchases']\n",
    "age_group_spending = data2.groupby([ 'Clusters','Age_Group'])[cols3].sum().reset_index()\n",
    "fig, axes = plt.subplots(len(cols3), 1, figsize=(12, 30))\n",
    "for i, col in enumerate(cols3):\n",
    "    sns.barplot(x='Clusters', y=col, hue='Age_Group', data=age_group_spending, ax=axes[i], palette='deep')\n",
    "    axes[i].set_title(f'{col} by different Age Groups')\n",
    "    axes[i].set_xlabel('clusters')\n",
    "    axes[i].set_ylabel(f'Total {col}')\n",
    "\n",
    "plt.tight_layout()\n",
    "plt.show()\n"
   ]
  },
  {
   "cell_type": "code",
   "execution_count": null,
   "metadata": {
    "colab": {
     "base_uri": "https://localhost:8080/",
     "height": 1000
    },
    "id": "y_brJT55NzwD",
    "outputId": "157a6951-d66b-4fcf-90d8-aa4017deda19"
   },
   "outputs": [],
   "source": [
    "cols4 = [\"children\", 'Education1']\n",
    "for col in cols4:\n",
    "    plt.figure(figsize=(10, 6))\n",
    "    sns.barplot(x='Clusters', y='Total_Expenses', data=data2, hue=col, palette=\"deep\")\n",
    "    plt.title(f'Total_Expenses by {col} and Clusters')\n",
    "    plt.xlabel('Clusters')\n",
    "    plt.ylabel('Total_Expenses')\n",
    "    plt.legend(title=col)\n",
    "    plt.tight_layout()\n",
    "\n",
    "plt.show()\n"
   ]
  },
  {
   "cell_type": "code",
   "execution_count": null,
   "metadata": {
    "colab": {
     "base_uri": "https://localhost:8080/",
     "height": 601
    },
    "id": "iNI31DZTOf4q",
    "outputId": "a144c575-cf71-409d-bbb6-93436a942553"
   },
   "outputs": [],
   "source": [
    "cols5 = ['MntWines', 'MntFruits', 'MntMeatProducts', 'MntFishProducts', 'MntSweetProducts', 'MntGoldProds']\n",
    "cluster_means = data2.groupby('Clusters')[cols5].mean().reset_index()\n",
    "# Melt the DataFrame for easier plotting\n",
    "melted_df = cluster_means.melt(id_vars='Clusters', var_name='Product', value_name='Mean_Spend')\n",
    "plt.figure(figsize=(12, 6))\n",
    "sns.barplot(data=melted_df, x='Clusters', y='Mean_Spend', hue='Product', palette='deep')\n",
    "plt.title('Average Spend on Products')\n",
    "plt.xlabel('Cluster')\n",
    "plt.ylabel('Average Spend')\n",
    "plt.legend(title='Products', loc='upper right')\n",
    "plt.xticks(rotation=45)\n",
    "plt.tight_layout()\n",
    "plt.show()"
   ]
  },
  {
   "cell_type": "code",
   "execution_count": null,
   "metadata": {
    "colab": {
     "base_uri": "https://localhost:8080/",
     "height": 601
    },
    "id": "nKTbIf8FJyFj",
    "outputId": "df6dbe00-de19-4082-8af2-5eeeb54cdfa5"
   },
   "outputs": [],
   "source": [
    "# Plot the distribution of 'Year_Joined' by cluster using a bar plot\n",
    "plt.figure(figsize=(12, 6))\n",
    "sns.countplot(data=data2, x='Year_Joined', hue='Clusters', palette='deep')\n",
    "plt.xlabel('Year')\n",
    "plt.ylabel('Count')\n",
    "plt.xticks(rotation=45)\n",
    "plt.legend(title='Clusters', loc='upper left')\n",
    "plt.tight_layout()\n",
    "plt.show()\n"
   ]
  },
  {
   "cell_type": "markdown",
   "metadata": {
    "id": "0I1nmnypXEkn"
   },
   "source": [
    "### Majority of the customers are joined in the year 2013."
   ]
  },
  {
   "cell_type": "markdown",
   "metadata": {
    "id": "RVG4dhe1Ud0l"
   },
   "source": [
    "##Obsevations:\n",
    "Cluster 0:\n",
    "* Highest no.of customers\n",
    "* Most of the households have atleast one kid.\n",
    "* Majority of the households doesnt have any teens\n",
    "* With or with out partner.\n",
    "* Most of them have atleast one or two child.\n",
    "* Majority of them did thet graduation and postgraduation, very few did their basic education.\n",
    "* Low income\n",
    "* Low Expenditure\n",
    "* Very less purchases\n",
    "* Very less accepted campaign\n",
    "* Expenses on different categories are done  more by middle aged people.\n",
    "* Higher expenses are made by households having no children.\n",
    "* Post graduate people does higher expenses.\n",
    "\n",
    "\n"
   ]
  },
  {
   "cell_type": "markdown",
   "metadata": {
    "id": "8FyhyhJ5X9Bg"
   },
   "source": [
    "Cluster 1:\n",
    "* Second highest no. of customers\n",
    "* Most of the households doesnt have any kids.\n",
    "* Majority of the households  have atleast one teen.\n",
    "* With or with out partner.\n",
    "* Majority of them atleast one child.\n",
    "* Majority of them did thet graduation and postgraduation\n",
    "* Income below 60000\n",
    "* Low Expenditure\n",
    "* Less spending on wines, fruits etc.\n",
    "* Less than 20 purchases\n",
    "* Very less accepted campaign\n",
    "* Expenses on different categories are done  more by middle aged people.\n",
    "* Higher expenses are made by households having no children.\n",
    "* Post graduate people does higher expenses."
   ]
  },
  {
   "cell_type": "markdown",
   "metadata": {
    "id": "rCqZN060Sj8-"
   },
   "source": [
    "Cluster 2:\n",
    "* Most of the households doesnt have any kids.\n",
    "* Majority of the households doent have any teens.\n",
    "* With or with out partner.\n",
    "* Well Educated\n",
    "* Mostly Middle aged people, followed by equal no. senior citizens and adults.\n",
    "* Cluster with the highest income\n",
    "* High Expenditure\n",
    "* High spending on wines\n",
    "* High spending on meat products when compared to other clusters.\n",
    "* More than 20 purchases\n",
    "* Accepted alot of campaigns\n"
   ]
  },
  {
   "cell_type": "markdown",
   "metadata": {
    "id": "0a9XQnX6V3rC"
   },
   "source": [
    "Cluster 3:\n",
    "* Most of the households doesnt have any kids.\n",
    "* Majority of the households have atlesast one teen.\n",
    "* With or with out partner.\n",
    "* Well Educated\n",
    "* Mostly Middle aged people and senior citizens.\n",
    "* high income\n",
    "* High Expenditure\n",
    "* Highest spending on wines\n",
    "* High spending on meat prods.\n",
    "* More than 25 purchases\n",
    "* Accepted alot of campaigns"
   ]
  },
  {
   "cell_type": "markdown",
   "metadata": {
    "id": "UFKZf_uQQRD7"
   },
   "source": [
    "## **Model Building**"
   ]
  },
  {
   "cell_type": "code",
   "execution_count": null,
   "metadata": {
    "colab": {
     "base_uri": "https://localhost:8080/",
     "height": 256
    },
    "id": "ie-9MgJALoMF",
    "outputId": "e20b697a-cbf0-48a3-875c-410b9a0afab0"
   },
   "outputs": [],
   "source": [
    "data2.head()"
   ]
  },
  {
   "cell_type": "code",
   "execution_count": null,
   "metadata": {
    "colab": {
     "base_uri": "https://localhost:8080/"
    },
    "id": "ZCLtsQQFNz2T",
    "outputId": "c0b706f3-61ae-4993-a5bc-cb26bcb0b7b2"
   },
   "outputs": [],
   "source": [
    "print(data2.shape)\n",
    "print(data2[\"Clusters\"].value_counts())"
   ]
  },
  {
   "cell_type": "code",
   "execution_count": null,
   "metadata": {
    "id": "rG9gbOdlRNuM"
   },
   "outputs": [],
   "source": [
    "x=data2.iloc[:,:-1]\n",
    "y=data2.iloc[:,-1]"
   ]
  },
  {
   "cell_type": "markdown",
   "metadata": {
    "id": "IdfTj--O61-t"
   },
   "source": [
    "#Train Test Split"
   ]
  },
  {
   "cell_type": "code",
   "execution_count": null,
   "metadata": {
    "colab": {
     "base_uri": "https://localhost:8080/"
    },
    "id": "Hy-TfFObR2J5",
    "outputId": "ce59d402-b709-4f7c-d899-4ebdaa09c1bf"
   },
   "outputs": [],
   "source": [
    "from sklearn.model_selection import train_test_split\n",
    "x_train, x_test, y_train, y_test = train_test_split(x,y, random_state=45, test_size=0.25)\n",
    "x_train.shape, x_test.shape"
   ]
  },
  {
   "cell_type": "markdown",
   "metadata": {
    "id": "dKyfd8m3OxHv"
   },
   "source": [
    "## KNN Model"
   ]
  },
  {
   "cell_type": "code",
   "execution_count": null,
   "metadata": {
    "id": "FEDT8Y-BSVMd"
   },
   "outputs": [],
   "source": [
    "from sklearn.metrics import accuracy_score, precision_score, recall_score, f1_score, classification_report, confusion_matrix"
   ]
  },
  {
   "cell_type": "code",
   "execution_count": null,
   "metadata": {
    "colab": {
     "base_uri": "https://localhost:8080/"
    },
    "id": "cIgBntFpFnIl",
    "outputId": "3cdcf61b-f1c0-4cd4-83ff-ddba77441b08"
   },
   "outputs": [],
   "source": [
    "from sklearn.neighbors import KNeighborsClassifier\n",
    "from sklearn.metrics import confusion_matrix, classification_report\n",
    "\n",
    "# Initialize and train the KNN model\n",
    "knn_model = KNeighborsClassifier(n_neighbors=5)\n",
    "knn_model.fit(x_train, y_train)\n",
    "\n",
    "# Predictions on the test set\n",
    "y_pred = knn_model.predict(x_test)\n",
    "\n",
    "# Calculate training accuracy\n",
    "train_accuracy1 = knn_model.score(x_train, y_train)\n",
    "print(\"Training Accuracy:\", train_accuracy1)\n",
    "\n",
    "# Calculate testing accuracy\n",
    "test_accuracy1 = knn_model.score(x_test, y_test)\n",
    "print(\"Testing Accuracy:\", test_accuracy1)\n",
    "\n",
    "# Evaluate the model\n",
    "cm1 = confusion_matrix(y_test, y_pred)\n",
    "print(\"Confusion Matrix:\\n\", cm1)\n",
    "print(\"\\nClassification Report:\\n\", classification_report(y_test, y_pred))\n"
   ]
  },
  {
   "cell_type": "markdown",
   "metadata": {
    "id": "f1MRb31vWPtz"
   },
   "source": [
    "\n",
    "#Logistic Regression"
   ]
  },
  {
   "cell_type": "code",
   "execution_count": null,
   "metadata": {
    "colab": {
     "base_uri": "https://localhost:8080/"
    },
    "id": "ZY8BFLEpSa8b",
    "outputId": "3cb28f68-2c7a-4b0b-efd6-c0ff50ce0301"
   },
   "outputs": [],
   "source": [
    "from sklearn.linear_model import LogisticRegression\n",
    "# Initialize and train the Logistic Regression model\n",
    "log_model = LogisticRegression(random_state=42)\n",
    "log_model.fit(x_train, y_train)\n",
    "# Predictions on the test set\n",
    "y_pred = log_model.predict(x_test)\n",
    "# Calculate training accuracy\n",
    "train_accuracy2 = log_model.score(x_train, y_train)\n",
    "print(\"Training Accuracy:\", train_accuracy2)\n",
    "# Calculate testing accuracy\n",
    "test_accuracy2 = log_model.score(x_test, y_test)\n",
    "print(\"Testing Accuracy:\", test_accuracy2)\n",
    "# Evaluate the model\n",
    "cm2 = confusion_matrix(y_test, y_pred)\n",
    "print(\"Confusion Matrix:\\n\", confusion_matrix(y_test, y_pred))\n",
    "print(\"\\nClassification Report:\\n\", classification_report(y_test, y_pred))\n"
   ]
  },
  {
   "cell_type": "markdown",
   "metadata": {
    "id": "B153kQZedFKN"
   },
   "source": [
    "#Decision  Tree Model"
   ]
  },
  {
   "cell_type": "code",
   "execution_count": null,
   "metadata": {
    "colab": {
     "base_uri": "https://localhost:8080/"
    },
    "id": "RgN3Rg0gSbB_",
    "outputId": "a749b089-a24e-4e89-f5be-7fa7b6eda964"
   },
   "outputs": [],
   "source": [
    "from sklearn.tree import DecisionTreeClassifier\n",
    "# Initialize and train the Decision Tree Classifier\n",
    "model_DT = DecisionTreeClassifier(criterion='gini')\n",
    "model_DT.fit(x_train, y_train)\n",
    "# Predictions on the test set\n",
    "y_pred = model_DT.predict(x_test)\n",
    "# Calculate training accuracy\n",
    "train_accuracy3 = model_DT.score(x_train, y_train)\n",
    "print(\"Training Accuracy:\", train_accuracy3)\n",
    "# Calculate testing accuracy\n",
    "test_accuracy3 = model_DT.score(x_test, y_test)\n",
    "print(\"Testing Accuracy:\", test_accuracy3)\n",
    "# Evaluate the model\n",
    "cm3 = confusion_matrix(y_test, y_pred)\n",
    "print(\"Confusion Matrix:\\n\", confusion_matrix(y_test, y_pred))\n",
    "print(\"\\nClassification Report:\\n\", classification_report(y_test, y_pred))"
   ]
  },
  {
   "cell_type": "markdown",
   "metadata": {
    "id": "KKoJQfGDW9VO"
   },
   "source": [
    "#Random Forest Model"
   ]
  },
  {
   "cell_type": "code",
   "execution_count": null,
   "metadata": {
    "colab": {
     "base_uri": "https://localhost:8080/"
    },
    "id": "1yQn7gNMSbD6",
    "outputId": "b2c0b039-9860-463c-f674-d85ce31c8650"
   },
   "outputs": [],
   "source": [
    "from sklearn.ensemble import RandomForestClassifier\n",
    "# Initialize and train the Random Forest Classifier\n",
    "rf_classifier = RandomForestClassifier(n_estimators=100, random_state=42)\n",
    "rf_classifier.fit(x_train, y_train)\n",
    "# Predictions on the test set\n",
    "y_pred = rf_classifier.predict(x_test)\n",
    "# Calculate training accuracy\n",
    "train_accuracy4 = rf_classifier.score(x_train, y_train)\n",
    "print(\"Training Accuracy:\", train_accuracy4)\n",
    "# Calculate testing accuracy\n",
    "test_accuracy4 = rf_classifier.score(x_test, y_test)\n",
    "print(\"Testing Accuracy:\", test_accuracy4)\n",
    "# Evaluate the model\n",
    "cm4 = confusion_matrix(y_test, y_pred)\n",
    "print(\"Confusion Matrix:\\n\", confusion_matrix(y_test, y_pred))\n",
    "print(\"\\nClassification Report:\\n\", classification_report(y_test, y_pred))"
   ]
  },
  {
   "cell_type": "markdown",
   "metadata": {
    "id": "ObPcCsCJXMkN"
   },
   "source": [
    "#XGBoost Model"
   ]
  },
  {
   "cell_type": "code",
   "execution_count": null,
   "metadata": {
    "colab": {
     "base_uri": "https://localhost:8080/"
    },
    "id": "HxpkMEUQFDro",
    "outputId": "34c1b70a-7bec-44a4-bd6f-c3da2663907c"
   },
   "outputs": [],
   "source": [
    "import xgboost as xgb\n",
    "from sklearn.model_selection import cross_val_score\n",
    "# Initialize and train the XGBoost Classifier\n",
    "xgb_classifier = xgb.XGBClassifier(n_estimators=100, max_depth=3, learning_rate=0.2,reg_alpha=1, reg_lambda=1)\n",
    "xgb_classifier.fit(x_train, y_train)\n",
    "# Predictions on the test set\n",
    "y_pred = xgb_classifier.predict(x_test)\n",
    "# Predictions on the training set\n",
    "y_train_pred = xgb_classifier.predict(x_train)\n",
    "# Calculate training accuracy\n",
    "train_accuracy5 = accuracy_score(y_train, y_train_pred)\n",
    "print(\"Training Accuracy:\", train_accuracy5)\n",
    "# Perform cross-validation\n",
    "cv_scores = cross_val_score(xgb_classifier, x_train, y_train, cv=5)\n",
    "print(\"Cross-Validation Scores:\", cv_scores)\n",
    "print(\"Mean CV Score:\", cv_scores.mean())\n",
    "# Predictions on the test set\n",
    "y_pred = xgb_classifier.predict(x_test)\n",
    "# Calculate testing accuracy\n",
    "test_accuracy5 = accuracy_score(y_test, y_pred)\n",
    "print(\"Testing Accuracy:\", test_accuracy5)\n",
    "# Generate confusion matrix\n",
    "cm5 = confusion_matrix(y_test, y_pred)\n",
    "print(\"Confusion Matrix:\\n\", cm5)\n",
    "print(\"\\nClassification Report:\\n\", classification_report(y_test, y_pred))"
   ]
  },
  {
   "cell_type": "markdown",
   "metadata": {
    "id": "jfYBlbR8aJYh"
   },
   "source": [
    "#CatBoost Model"
   ]
  },
  {
   "cell_type": "code",
   "execution_count": null,
   "metadata": {
    "colab": {
     "base_uri": "https://localhost:8080/"
    },
    "id": "L2kRfMwVFLHz",
    "outputId": "f885a6b4-5d11-4f19-81dd-9480dd02cc5a"
   },
   "outputs": [],
   "source": [
    "from catboost import CatBoostClassifier\n",
    "# Create CatBoost classifier\n",
    "catboost_model = CatBoostClassifier(iterations=100, learning_rate=0.1, depth=2,loss_function='MultiClass', l2_leaf_reg=3)\n",
    "# Train the model\n",
    "catboost_model.fit(x_train, y_train,  eval_set=(x_test, y_test), early_stopping_rounds=10)"
   ]
  },
  {
   "cell_type": "code",
   "execution_count": null,
   "metadata": {
    "colab": {
     "base_uri": "https://localhost:8080/"
    },
    "id": "QfcvJSCJFLKh",
    "outputId": "71c5ac95-6dea-4ea2-a6b0-1717aa9d899f"
   },
   "outputs": [],
   "source": [
    "# Predict on test data\n",
    "y_pred = catboost_model.predict(x_test)\n",
    "# Predictions on the training set\n",
    "y_train_pred = catboost_model.predict(x_train)\n",
    "# Calculate training accuracy\n",
    "train_accuracy6 = accuracy_score(y_train, y_train_pred)\n",
    "print(\"Training Accuracy:\", train_accuracy6)\n",
    "# Calculate testing accuracy\n",
    "test_accuracy6 = catboost_model.score(x_test, y_test)\n",
    "print(\"Testing Accuracy:\", test_accuracy6)\n",
    "# Evaluate the model\n",
    "cm6 = confusion_matrix(y_test, y_pred)\n",
    "print(\"Confusion Matrix:\\n\", confusion_matrix(y_test, y_pred))\n",
    "print(\"\\nClassification Report:\\n\", classification_report(y_test, y_pred))\n"
   ]
  },
  {
   "cell_type": "markdown",
   "metadata": {
    "id": "vbUAJrzoPIXN"
   },
   "source": [
    "#Model Conclusion"
   ]
  },
  {
   "cell_type": "code",
   "execution_count": null,
   "metadata": {
    "colab": {
     "base_uri": "https://localhost:8080/",
     "height": 801
    },
    "id": "oIfHtbyBFNBl",
    "outputId": "e32c3c0c-8838-4027-8f05-0a5b94ede622"
   },
   "outputs": [],
   "source": [
    "data3 = {\n",
    "   'Model': [\"KNN\", \"Logistic Regression\", \"Decision Tree\", \"Random Forest\", \"XGBoost\",\"CatBoost\"],\n",
    "    'Training Accuracy': [train_accuracy1, train_accuracy2, train_accuracy3, train_accuracy4, train_accuracy5, train_accuracy6],\n",
    "    'Testing Accuracy': [test_accuracy1, test_accuracy2, test_accuracy3, test_accuracy4, test_accuracy5, test_accuracy6]\n",
    "}\n",
    "\n",
    "plt.figure(figsize=(10, 8))\n",
    "\n",
    "# Position of bars on x-axis\n",
    "x_pos = np.arange(len(data3['Model']))\n",
    "\n",
    "# Plotting bars\n",
    "bar_width = 0.35\n",
    "bars1 = plt.bar(x_pos - 0.2, data3['Training Accuracy'], width=bar_width, label='Training Accuracy')\n",
    "bars2 = plt.bar(x_pos + 0.2, data3['Testing Accuracy'], width=bar_width, label='Testing Accuracy')\n",
    "\n",
    "# Add values on bars\n",
    "for bars in [bars1, bars2]:\n",
    "    for bar in bars:\n",
    "        yval = bar.get_height()\n",
    "        plt.text(bar.get_x() + bar.get_width()/2, yval, round(yval, 2), ha='center', va='bottom')\n",
    "\n",
    "plt.title('Training and Testing Accuracy of Different Models')\n",
    "plt.xlabel('Model')\n",
    "plt.ylabel('Accuracy')\n",
    "plt.xticks(x_pos, data3['Model'], rotation=45, ha='right')\n",
    "plt.legend()\n",
    "plt.tight_layout()\n",
    "plt.show()"
   ]
  },
  {
   "cell_type": "markdown",
   "metadata": {
    "id": "2-Bv6xdFRmtM"
   },
   "source": [
    "### CatBoost shows the best balance between training and testing accuracy, with training accuracy at 0.98 and testing accuracy at 0.95. This suggests that CatBoost is generalizing well and is likely the most robust model among those compared."
   ]
  },
  {
   "cell_type": "markdown",
   "metadata": {
    "id": "q6SQHhPkRtyL"
   },
   "source": [
    "### XGBoost also shows a good balance. Despite the overfitting, the testing accuracy of 0.96 is very high, indicating that the model still performs well on unseen data. This suggests that, while the model is overfitting, it retains a strong predictive power."
   ]
  },
  {
   "cell_type": "markdown",
   "metadata": {
    "id": "5sFZEVN5_3BO"
   },
   "source": [
    "#Deployment"
   ]
  },
  {
   "cell_type": "code",
   "execution_count": null,
   "metadata": {
    "id": "RckJEBSf3lCx"
   },
   "outputs": [],
   "source": [
    "import pickle\n",
    "filename = 'XGBoostModel.pkl'\n",
    "pickle.dump(xgb_classifier, open(filename,'wb'))"
   ]
  },
  {
   "cell_type": "code",
   "execution_count": null,
   "metadata": {
    "id": "teSiYhDK_8SM"
   },
   "outputs": [],
   "source": []
  }
 ],
 "metadata": {
  "colab": {
   "provenance": []
  },
  "kernelspec": {
   "display_name": "Python 3 (ipykernel)",
   "language": "python",
   "name": "python3"
  },
  "language_info": {
   "codemirror_mode": {
    "name": "ipython",
    "version": 3
   },
   "file_extension": ".py",
   "mimetype": "text/x-python",
   "name": "python",
   "nbconvert_exporter": "python",
   "pygments_lexer": "ipython3",
   "version": "3.11.4"
  }
 },
 "nbformat": 4,
 "nbformat_minor": 1
}
