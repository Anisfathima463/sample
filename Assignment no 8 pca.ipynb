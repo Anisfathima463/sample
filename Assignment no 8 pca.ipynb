{
 "cells": [
  {
   "cell_type": "markdown",
   "id": "d4683162",
   "metadata": {},
   "source": [
    "# pcaa assignment"
   ]
  },
  {
   "cell_type": "code",
   "execution_count": 26,
   "id": "4d1ce8f4",
   "metadata": {},
   "outputs": [],
   "source": [
    "# Importing Libraries\n",
    "import pandas as pd \n",
    "import numpy as np\n",
    "import matplotlib.pyplot as plt\n",
    "from sklearn.decomposition import PCA\n",
    "from sklearn.preprocessing import scale\n",
    "import warnings\n",
    "warnings.filterwarnings('ignore')"
   ]
  },
  {
   "cell_type": "code",
   "execution_count": 27,
   "id": "207da898",
   "metadata": {},
   "outputs": [
    {
     "data": {
      "text/html": [
       "<div>\n",
       "<style scoped>\n",
       "    .dataframe tbody tr th:only-of-type {\n",
       "        vertical-align: middle;\n",
       "    }\n",
       "\n",
       "    .dataframe tbody tr th {\n",
       "        vertical-align: top;\n",
       "    }\n",
       "\n",
       "    .dataframe thead th {\n",
       "        text-align: right;\n",
       "    }\n",
       "</style>\n",
       "<table border=\"1\" class=\"dataframe\">\n",
       "  <thead>\n",
       "    <tr style=\"text-align: right;\">\n",
       "      <th></th>\n",
       "      <th>class</th>\n",
       "      <th>alcohol</th>\n",
       "      <th>malic_acid</th>\n",
       "      <th>ash</th>\n",
       "      <th>alcalinity_of_ash</th>\n",
       "      <th>magnesium</th>\n",
       "      <th>total_phenols</th>\n",
       "      <th>flavanoids</th>\n",
       "      <th>nonflavanoid_phenols</th>\n",
       "      <th>proanthocyanins</th>\n",
       "      <th>color_intensity</th>\n",
       "      <th>hue</th>\n",
       "      <th>dilution_of_wines</th>\n",
       "      <th>proline</th>\n",
       "    </tr>\n",
       "  </thead>\n",
       "  <tbody>\n",
       "    <tr>\n",
       "      <th>0</th>\n",
       "      <td>1</td>\n",
       "      <td>14.23</td>\n",
       "      <td>1.71</td>\n",
       "      <td>2.43</td>\n",
       "      <td>15.6</td>\n",
       "      <td>127</td>\n",
       "      <td>2.80</td>\n",
       "      <td>3.06</td>\n",
       "      <td>0.28</td>\n",
       "      <td>2.29</td>\n",
       "      <td>5.64</td>\n",
       "      <td>1.04</td>\n",
       "      <td>3.92</td>\n",
       "      <td>1065</td>\n",
       "    </tr>\n",
       "    <tr>\n",
       "      <th>1</th>\n",
       "      <td>1</td>\n",
       "      <td>13.20</td>\n",
       "      <td>1.78</td>\n",
       "      <td>2.14</td>\n",
       "      <td>11.2</td>\n",
       "      <td>100</td>\n",
       "      <td>2.65</td>\n",
       "      <td>2.76</td>\n",
       "      <td>0.26</td>\n",
       "      <td>1.28</td>\n",
       "      <td>4.38</td>\n",
       "      <td>1.05</td>\n",
       "      <td>3.40</td>\n",
       "      <td>1050</td>\n",
       "    </tr>\n",
       "    <tr>\n",
       "      <th>2</th>\n",
       "      <td>1</td>\n",
       "      <td>13.16</td>\n",
       "      <td>2.36</td>\n",
       "      <td>2.67</td>\n",
       "      <td>18.6</td>\n",
       "      <td>101</td>\n",
       "      <td>2.80</td>\n",
       "      <td>3.24</td>\n",
       "      <td>0.30</td>\n",
       "      <td>2.81</td>\n",
       "      <td>5.68</td>\n",
       "      <td>1.03</td>\n",
       "      <td>3.17</td>\n",
       "      <td>1185</td>\n",
       "    </tr>\n",
       "    <tr>\n",
       "      <th>3</th>\n",
       "      <td>1</td>\n",
       "      <td>14.37</td>\n",
       "      <td>1.95</td>\n",
       "      <td>2.50</td>\n",
       "      <td>16.8</td>\n",
       "      <td>113</td>\n",
       "      <td>3.85</td>\n",
       "      <td>3.49</td>\n",
       "      <td>0.24</td>\n",
       "      <td>2.18</td>\n",
       "      <td>7.80</td>\n",
       "      <td>0.86</td>\n",
       "      <td>3.45</td>\n",
       "      <td>1480</td>\n",
       "    </tr>\n",
       "    <tr>\n",
       "      <th>4</th>\n",
       "      <td>1</td>\n",
       "      <td>13.24</td>\n",
       "      <td>2.59</td>\n",
       "      <td>2.87</td>\n",
       "      <td>21.0</td>\n",
       "      <td>118</td>\n",
       "      <td>2.80</td>\n",
       "      <td>2.69</td>\n",
       "      <td>0.39</td>\n",
       "      <td>1.82</td>\n",
       "      <td>4.32</td>\n",
       "      <td>1.04</td>\n",
       "      <td>2.93</td>\n",
       "      <td>735</td>\n",
       "    </tr>\n",
       "  </tbody>\n",
       "</table>\n",
       "</div>"
      ],
      "text/plain": [
       "   class  alcohol  malic_acid   ash  alcalinity_of_ash  magnesium  \\\n",
       "0      1    14.23        1.71  2.43               15.6        127   \n",
       "1      1    13.20        1.78  2.14               11.2        100   \n",
       "2      1    13.16        2.36  2.67               18.6        101   \n",
       "3      1    14.37        1.95  2.50               16.8        113   \n",
       "4      1    13.24        2.59  2.87               21.0        118   \n",
       "\n",
       "   total_phenols  flavanoids  nonflavanoid_phenols  proanthocyanins  \\\n",
       "0           2.80        3.06                  0.28             2.29   \n",
       "1           2.65        2.76                  0.26             1.28   \n",
       "2           2.80        3.24                  0.30             2.81   \n",
       "3           3.85        3.49                  0.24             2.18   \n",
       "4           2.80        2.69                  0.39             1.82   \n",
       "\n",
       "   color_intensity   hue  dilution_of_wines  proline  \n",
       "0             5.64  1.04               3.92     1065  \n",
       "1             4.38  1.05               3.40     1050  \n",
       "2             5.68  1.03               3.17     1185  \n",
       "3             7.80  0.86               3.45     1480  \n",
       "4             4.32  1.04               2.93      735  "
      ]
     },
     "execution_count": 27,
     "metadata": {},
     "output_type": "execute_result"
    }
   ],
   "source": [
    "# Loading dataset and Renaming the columns based on their features.\n",
    "\n",
    "columns = ['class','alcohol', 'malic_acid', 'ash', 'alcalinity_of_ash', 'magnesium',\n",
    "    'total_phenols', 'flavanoids', 'nonflavanoid_phenols',\n",
    "    'proanthocyanins', 'color_intensity', 'hue',\n",
    "    'dilution_of_wines', 'proline']\n",
    "\n",
    "df = pd.read_csv('C:\\\\Users\\\\DELL\\\\Downloads\\\\wine.csv', names=columns, header=0)\n",
    "df.head()"
   ]
  },
  {
   "cell_type": "code",
   "execution_count": 28,
   "id": "35234c1e",
   "metadata": {},
   "outputs": [
    {
     "data": {
      "text/plain": [
       "class                   0\n",
       "alcohol                 0\n",
       "malic_acid              0\n",
       "ash                     0\n",
       "alcalinity_of_ash       0\n",
       "magnesium               0\n",
       "total_phenols           0\n",
       "flavanoids              0\n",
       "nonflavanoid_phenols    0\n",
       "proanthocyanins         0\n",
       "color_intensity         0\n",
       "hue                     0\n",
       "dilution_of_wines       0\n",
       "proline                 0\n",
       "dtype: int64"
      ]
     },
     "execution_count": 28,
     "metadata": {},
     "output_type": "execute_result"
    }
   ],
   "source": [
    "# Checking for null values\n",
    "df.isna().sum()"
   ]
  },
  {
   "cell_type": "code",
   "execution_count": 29,
   "id": "b1b3a9e1",
   "metadata": {},
   "outputs": [
    {
     "data": {
      "text/plain": [
       "2    71\n",
       "1    59\n",
       "3    48\n",
       "Name: class, dtype: int64"
      ]
     },
     "execution_count": 29,
     "metadata": {},
     "output_type": "execute_result"
    }
   ],
   "source": [
    "df['class'].value_counts()"
   ]
  },
  {
   "cell_type": "code",
   "execution_count": 30,
   "id": "1eced151",
   "metadata": {},
   "outputs": [
    {
     "data": {
      "text/plain": [
       "<matplotlib.legend.Legend at 0x19b55b4d110>"
      ]
     },
     "execution_count": 30,
     "metadata": {},
     "output_type": "execute_result"
    },
    {
     "data": {
      "image/png": "[encoded data removed]",
      "text/plain": [
       "<Figure size 800x550 with 1 Axes>"
      ]
     },
     "metadata": {},
     "output_type": "display_data"
    }
   ],
   "source": [
    "df[\"class\"].value_counts().plot.bar(color='Red')\n",
    "plt.xlabel(\"Class\")\n",
    "plt.legend()"
   ]
  },
  {
   "cell_type": "code",
   "execution_count": 31,
   "id": "f18910a6",
   "metadata": {},
   "outputs": [
    {
     "data": {
      "text/plain": [
       "(178, 13)"
      ]
     },
     "execution_count": 31,
     "metadata": {},
     "output_type": "execute_result"
    }
   ],
   "source": [
    "# Using the standard scaler method to get the values converted into integers.\n",
    "X = df.iloc[:, 1:].values\n",
    "from sklearn.preprocessing import StandardScaler\n",
    "X_normal = scale(X)\n",
    "X_normal.shape"
   ]
  },
  {
   "cell_type": "code",
   "execution_count": 32,
   "id": "4cf8ef06",
   "metadata": {},
   "outputs": [
    {
     "data": {
      "text/plain": [
       "array([[ 1.51861254, -0.5622498 ,  0.23205254, ...,  0.36217728,\n",
       "         1.84791957,  1.01300893],\n",
       "       [ 0.24628963, -0.49941338, -0.82799632, ...,  0.40605066,\n",
       "         1.1134493 ,  0.96524152],\n",
       "       [ 0.19687903,  0.02123125,  1.10933436, ...,  0.31830389,\n",
       "         0.78858745,  1.39514818],\n",
       "       ...,\n",
       "       [ 0.33275817,  1.74474449, -0.38935541, ..., -1.61212515,\n",
       "        -1.48544548,  0.28057537],\n",
       "       [ 0.20923168,  0.22769377,  0.01273209, ..., -1.56825176,\n",
       "        -1.40069891,  0.29649784],\n",
       "       [ 1.39508604,  1.58316512,  1.36520822, ..., -1.52437837,\n",
       "        -1.42894777, -0.59516041]])"
      ]
     },
     "execution_count": 32,
     "metadata": {},
     "output_type": "execute_result"
    }
   ],
   "source": [
    "X_normal"
   ]
  },
  {
   "cell_type": "code",
   "execution_count": 33,
   "id": "88169a5e",
   "metadata": {},
   "outputs": [
    {
     "data": {
      "text/plain": [
       "array([[ 3.31675081e+00, -1.44346263e+00, -1.65739045e-01, ...,\n",
       "        -4.51563395e-01,  5.40810414e-01, -6.62386309e-02],\n",
       "       [ 2.20946492e+00,  3.33392887e-01, -2.02645737e+00, ...,\n",
       "        -1.42657306e-01,  3.88237741e-01,  3.63650247e-03],\n",
       "       [ 2.51674015e+00, -1.03115130e+00,  9.82818670e-01, ...,\n",
       "        -2.86672847e-01,  5.83573183e-04,  2.17165104e-02],\n",
       "       ...,\n",
       "       [-2.67783946e+00, -2.76089913e+00, -9.40941877e-01, ...,\n",
       "         5.12492025e-01,  6.98766451e-01,  7.20776948e-02],\n",
       "       [-2.38701709e+00, -2.29734668e+00, -5.50696197e-01, ...,\n",
       "         2.99821968e-01,  3.39820654e-01, -2.18657605e-02],\n",
       "       [-3.20875816e+00, -2.76891957e+00,  1.01391366e+00, ...,\n",
       "        -2.29964331e-01, -1.88787963e-01, -3.23964720e-01]])"
      ]
     },
     "execution_count": 33,
     "metadata": {},
     "output_type": "execute_result"
    }
   ],
   "source": [
    "''' Using Principal Component Analysis or PCA in short to reduce the dimensionality of the data in order to optimize the result \n",
    "of the clustering. '''\n",
    "pca = PCA()\n",
    "principalComponents = pca.fit_transform(X_normal)\n",
    "principalComponents"
   ]
  },
  {
   "cell_type": "code",
   "execution_count": 34,
   "id": "840d1f6b",
   "metadata": {},
   "outputs": [
    {
     "data": {
      "text/html": [
       "<div>\n",
       "<style scoped>\n",
       "    .dataframe tbody tr th:only-of-type {\n",
       "        vertical-align: middle;\n",
       "    }\n",
       "\n",
       "    .dataframe tbody tr th {\n",
       "        vertical-align: top;\n",
       "    }\n",
       "\n",
       "    .dataframe thead th {\n",
       "        text-align: right;\n",
       "    }\n",
       "</style>\n",
       "<table border=\"1\" class=\"dataframe\">\n",
       "  <thead>\n",
       "    <tr style=\"text-align: right;\">\n",
       "      <th></th>\n",
       "      <th>component1</th>\n",
       "      <th>component2</th>\n",
       "      <th>component3</th>\n",
       "      <th>component4</th>\n",
       "      <th>component5</th>\n",
       "      <th>component6</th>\n",
       "      <th>component7</th>\n",
       "      <th>component8</th>\n",
       "      <th>component9</th>\n",
       "      <th>component10</th>\n",
       "      <th>component11</th>\n",
       "      <th>component12</th>\n",
       "      <th>component13</th>\n",
       "    </tr>\n",
       "  </thead>\n",
       "  <tbody>\n",
       "    <tr>\n",
       "      <th>0</th>\n",
       "      <td>3.316751</td>\n",
       "      <td>-1.443463</td>\n",
       "      <td>-0.165739</td>\n",
       "      <td>-0.215631</td>\n",
       "      <td>0.693043</td>\n",
       "      <td>-0.223880</td>\n",
       "      <td>0.596427</td>\n",
       "      <td>0.065139</td>\n",
       "      <td>0.641443</td>\n",
       "      <td>1.020956</td>\n",
       "      <td>-0.451563</td>\n",
       "      <td>0.540810</td>\n",
       "      <td>-0.066239</td>\n",
       "    </tr>\n",
       "    <tr>\n",
       "      <th>1</th>\n",
       "      <td>2.209465</td>\n",
       "      <td>0.333393</td>\n",
       "      <td>-2.026457</td>\n",
       "      <td>-0.291358</td>\n",
       "      <td>-0.257655</td>\n",
       "      <td>-0.927120</td>\n",
       "      <td>0.053776</td>\n",
       "      <td>1.024416</td>\n",
       "      <td>-0.308847</td>\n",
       "      <td>0.159701</td>\n",
       "      <td>-0.142657</td>\n",
       "      <td>0.388238</td>\n",
       "      <td>0.003637</td>\n",
       "    </tr>\n",
       "    <tr>\n",
       "      <th>2</th>\n",
       "      <td>2.516740</td>\n",
       "      <td>-1.031151</td>\n",
       "      <td>0.982819</td>\n",
       "      <td>0.724902</td>\n",
       "      <td>-0.251033</td>\n",
       "      <td>0.549276</td>\n",
       "      <td>0.424205</td>\n",
       "      <td>-0.344216</td>\n",
       "      <td>-1.177834</td>\n",
       "      <td>0.113361</td>\n",
       "      <td>-0.286673</td>\n",
       "      <td>0.000584</td>\n",
       "      <td>0.021717</td>\n",
       "    </tr>\n",
       "    <tr>\n",
       "      <th>3</th>\n",
       "      <td>3.757066</td>\n",
       "      <td>-2.756372</td>\n",
       "      <td>-0.176192</td>\n",
       "      <td>0.567983</td>\n",
       "      <td>-0.311842</td>\n",
       "      <td>0.114431</td>\n",
       "      <td>-0.383337</td>\n",
       "      <td>0.643593</td>\n",
       "      <td>0.052544</td>\n",
       "      <td>0.239413</td>\n",
       "      <td>0.759584</td>\n",
       "      <td>-0.242020</td>\n",
       "      <td>-0.369484</td>\n",
       "    </tr>\n",
       "    <tr>\n",
       "      <th>4</th>\n",
       "      <td>1.008908</td>\n",
       "      <td>-0.869831</td>\n",
       "      <td>2.026688</td>\n",
       "      <td>-0.409766</td>\n",
       "      <td>0.298458</td>\n",
       "      <td>-0.406520</td>\n",
       "      <td>0.444074</td>\n",
       "      <td>0.416700</td>\n",
       "      <td>0.326819</td>\n",
       "      <td>-0.078366</td>\n",
       "      <td>-0.525945</td>\n",
       "      <td>-0.216664</td>\n",
       "      <td>-0.079364</td>\n",
       "    </tr>\n",
       "  </tbody>\n",
       "</table>\n",
       "</div>"
      ],
      "text/plain": [
       "   component1  component2  component3  component4  component5  component6  \\\n",
       "0    3.316751   -1.443463   -0.165739   -0.215631    0.693043   -0.223880   \n",
       "1    2.209465    0.333393   -2.026457   -0.291358   -0.257655   -0.927120   \n",
       "2    2.516740   -1.031151    0.982819    0.724902   -0.251033    0.549276   \n",
       "3    3.757066   -2.756372   -0.176192    0.567983   -0.311842    0.114431   \n",
       "4    1.008908   -0.869831    2.026688   -0.409766    0.298458   -0.406520   \n",
       "\n",
       "   component7  component8  component9  component10  component11  component12  \\\n",
       "0    0.596427    0.065139    0.641443     1.020956    -0.451563     0.540810   \n",
       "1    0.053776    1.024416   -0.308847     0.159701    -0.142657     0.388238   \n",
       "2    0.424205   -0.344216   -1.177834     0.113361    -0.286673     0.000584   \n",
       "3   -0.383337    0.643593    0.052544     0.239413     0.759584    -0.242020   \n",
       "4    0.444074    0.416700    0.326819    -0.078366    -0.525945    -0.216664   \n",
       "\n",
       "   component13  \n",
       "0    -0.066239  \n",
       "1     0.003637  \n",
       "2     0.021717  \n",
       "3    -0.369484  \n",
       "4    -0.079364  "
      ]
     },
     "execution_count": 34,
     "metadata": {},
     "output_type": "execute_result"
    }
   ],
   "source": [
    "# Creating a dataframe featuring the two Principal components that we acquired through PCA.\n",
    "PCA_dataset = pd.DataFrame(data = principalComponents, columns = ['component1', 'component2', 'component3', 'component4', \n",
    "                                                                  'component5', 'component6','component7', 'component8', 'component9',\n",
    "                                                                 'component10', 'component11', 'component12', 'component13'] )\n",
    "PCA_dataset.head()"
   ]
  },
  {
   "cell_type": "code",
   "execution_count": 35,
   "id": "57276cf1",
   "metadata": {},
   "outputs": [
    {
     "data": {
      "text/plain": [
       "array([0.36198848, 0.1920749 , 0.11123631, 0.0706903 , 0.06563294,\n",
       "       0.04935823, 0.04238679, 0.02680749, 0.02222153, 0.01930019,\n",
       "       0.01736836, 0.01298233, 0.00795215])"
      ]
     },
     "execution_count": 35,
     "metadata": {},
     "output_type": "execute_result"
    }
   ],
   "source": [
    "# The amount of variance that each PCA explains is \n",
    "var = pca.explained_variance_ratio_\n",
    "var"
   ]
  },
  {
   "cell_type": "code",
   "execution_count": 36,
   "id": "ecf301f0",
   "metadata": {},
   "outputs": [
    {
     "data": {
      "text/plain": [
       "array([ 36.2 ,  55.41,  66.53,  73.6 ,  80.16,  85.1 ,  89.34,  92.02,\n",
       "        94.24,  96.17,  97.91,  99.21, 100.01])"
      ]
     },
     "execution_count": 36,
     "metadata": {},
     "output_type": "execute_result"
    }
   ],
   "source": [
    "# Cumulative variance \n",
    "var1 = np.cumsum(np.round(var,decimals = 4)*100)\n",
    "var1"
   ]
  },
  {
   "cell_type": "code",
   "execution_count": 37,
   "id": "5791c100",
   "metadata": {},
   "outputs": [
    {
     "data": {
      "text/plain": [
       "array([[ 0.1443294 , -0.24518758, -0.00205106, -0.23932041,  0.14199204,\n",
       "         0.39466085,  0.4229343 , -0.2985331 ,  0.31342949, -0.0886167 ,\n",
       "         0.29671456,  0.37616741,  0.28675223],\n",
       "       [-0.48365155, -0.22493093, -0.31606881,  0.0105905 , -0.299634  ,\n",
       "        -0.06503951,  0.00335981, -0.02877949, -0.03930172, -0.52999567,\n",
       "         0.27923515,  0.16449619, -0.36490283],\n",
       "       [-0.20738262,  0.08901289,  0.6262239 ,  0.61208035,  0.13075693,\n",
       "         0.14617896,  0.1506819 ,  0.17036816,  0.14945431, -0.13730621,\n",
       "         0.08522192,  0.16600459, -0.12674592],\n",
       "       [-0.0178563 ,  0.53689028, -0.21417556,  0.06085941, -0.35179658,\n",
       "         0.19806835,  0.15229479, -0.20330102,  0.39905653,  0.06592568,\n",
       "        -0.42777141,  0.18412074, -0.23207086],\n",
       "       [-0.26566365,  0.03521363, -0.14302547,  0.06610294,  0.72704851,\n",
       "        -0.14931841, -0.10902584, -0.50070298,  0.13685982, -0.07643678,\n",
       "        -0.17361452, -0.10116099, -0.1578688 ],\n",
       "       [-0.21353865, -0.53681385, -0.15447466,  0.10082451, -0.03814394,\n",
       "         0.0841223 ,  0.01892002,  0.25859401,  0.53379539,  0.41864414,\n",
       "        -0.10598274, -0.26585107, -0.11972557],\n",
       "       [-0.05639636,  0.42052391, -0.14917061, -0.28696914,  0.3228833 ,\n",
       "        -0.02792498, -0.06068521,  0.59544729,  0.37213935, -0.22771214,\n",
       "         0.23207564, -0.0447637 ,  0.0768045 ],\n",
       "       [-0.39613926, -0.06582674,  0.17026002, -0.42797018,  0.15636143,\n",
       "         0.40593409,  0.18724536,  0.23328465, -0.36822675,  0.03379692,\n",
       "        -0.43662362,  0.07810789, -0.12002267],\n",
       "       [ 0.50861912, -0.07528304, -0.30769445,  0.20044931,  0.27140257,\n",
       "         0.28603452,  0.04957849,  0.19550132, -0.20914487,  0.05621752,\n",
       "         0.08582839,  0.1372269 , -0.57578611],\n",
       "       [ 0.21160473, -0.30907994, -0.02712539,  0.05279942,  0.06787022,\n",
       "        -0.32013135, -0.16315051,  0.21553507,  0.1341839 , -0.29077518,\n",
       "        -0.52239889,  0.52370587,  0.162116  ],\n",
       "       [-0.22591696,  0.07648554, -0.49869142,  0.47931378,  0.07128891,\n",
       "         0.30434119, -0.02569409,  0.11689586, -0.23736257,  0.0318388 ,\n",
       "        -0.04821201,  0.0464233 ,  0.53926983],\n",
       "       [-0.26628645,  0.12169604, -0.04962237, -0.05574287,  0.06222011,\n",
       "        -0.30388245, -0.04289883,  0.04235219, -0.09555303,  0.60422163,\n",
       "         0.259214  ,  0.60095872, -0.07940162],\n",
       "       [ 0.01496997,  0.02596375, -0.14121803,  0.09168285,  0.05677422,\n",
       "        -0.46390791,  0.83225706,  0.11403985, -0.11691707, -0.0119928 ,\n",
       "        -0.08988884, -0.15671813,  0.01444734]])"
      ]
     },
     "execution_count": 37,
     "metadata": {},
     "output_type": "execute_result"
    }
   ],
   "source": [
    "pca.components_"
   ]
  },
  {
   "cell_type": "code",
   "execution_count": 38,
   "id": "7ba43709",
   "metadata": {},
   "outputs": [
    {
     "data": {
      "text/plain": [
       "[<matplotlib.lines.Line2D at 0x19b55470cd0>]"
      ]
     },
     "execution_count": 38,
     "metadata": {},
     "output_type": "execute_result"
    },
    {
     "data": {
      "image/png": "[encoded data removed]",
      "text/plain": [
       "<Figure size 800x550 with 1 Axes>"
      ]
     },
     "metadata": {},
     "output_type": "display_data"
    }
   ],
   "source": [
    "# Variance plot for PCA components obtained \n",
    "plt.plot(var1,color=\"red\")"
   ]
  },
  {
   "cell_type": "code",
   "execution_count": 39,
   "id": "fd671008",
   "metadata": {},
   "outputs": [
    {
     "data": {
      "text/html": [
       "<div>\n",
       "<style scoped>\n",
       "    .dataframe tbody tr th:only-of-type {\n",
       "        vertical-align: middle;\n",
       "    }\n",
       "\n",
       "    .dataframe tbody tr th {\n",
       "        vertical-align: top;\n",
       "    }\n",
       "\n",
       "    .dataframe thead th {\n",
       "        text-align: right;\n",
       "    }\n",
       "</style>\n",
       "<table border=\"1\" class=\"dataframe\">\n",
       "  <thead>\n",
       "    <tr style=\"text-align: right;\">\n",
       "      <th></th>\n",
       "      <th>component1</th>\n",
       "      <th>component2</th>\n",
       "      <th>component3</th>\n",
       "    </tr>\n",
       "  </thead>\n",
       "  <tbody>\n",
       "    <tr>\n",
       "      <th>0</th>\n",
       "      <td>3.316751</td>\n",
       "      <td>-1.443463</td>\n",
       "      <td>-0.165739</td>\n",
       "    </tr>\n",
       "    <tr>\n",
       "      <th>1</th>\n",
       "      <td>2.209465</td>\n",
       "      <td>0.333393</td>\n",
       "      <td>-2.026457</td>\n",
       "    </tr>\n",
       "    <tr>\n",
       "      <th>2</th>\n",
       "      <td>2.516740</td>\n",
       "      <td>-1.031151</td>\n",
       "      <td>0.982819</td>\n",
       "    </tr>\n",
       "    <tr>\n",
       "      <th>3</th>\n",
       "      <td>3.757066</td>\n",
       "      <td>-2.756372</td>\n",
       "      <td>-0.176192</td>\n",
       "    </tr>\n",
       "    <tr>\n",
       "      <th>4</th>\n",
       "      <td>1.008908</td>\n",
       "      <td>-0.869831</td>\n",
       "      <td>2.026688</td>\n",
       "    </tr>\n",
       "  </tbody>\n",
       "</table>\n",
       "</div>"
      ],
      "text/plain": [
       "   component1  component2  component3\n",
       "0    3.316751   -1.443463   -0.165739\n",
       "1    2.209465    0.333393   -2.026457\n",
       "2    2.516740   -1.031151    0.982819\n",
       "3    3.757066   -2.756372   -0.176192\n",
       "4    1.008908   -0.869831    2.026688"
      ]
     },
     "execution_count": 39,
     "metadata": {},
     "output_type": "execute_result"
    }
   ],
   "source": [
    "principal_component1 = PCA_dataset['component1']\n",
    "principal_component2 = PCA_dataset['component2']\n",
    "principal_component3 = PCA_dataset['component3']\n",
    "# Creating dataframe for further clusering algorithms\n",
    "pca_df = pd.concat([principal_component1, principal_component2, principal_component3], axis = 1)\n",
    "pca_df.head()"
   ]
  },
  {
   "cell_type": "code",
   "execution_count": 41,
   "id": "75b32d56",
   "metadata": {},
   "outputs": [
    {
     "name": "stdout",
     "output_type": "stream",
     "text": [
      "[[0.88409355 0.28044707 0.44502757]\n",
      " [0.75524083 0.52098937 0.25765258]\n",
      " [0.79099786 0.33626383 0.56068773]\n",
      " [0.93533214 0.10271162 0.44397497]\n",
      " [0.6155344  0.35810263 0.66580576]\n",
      " [0.85308182 0.18853559 0.39833717]\n",
      " [0.7831255  0.31681056 0.36332375]\n",
      " [0.73778236 0.25804241 0.47644818]\n",
      " [0.79031526 0.35157211 0.28338035]\n",
      " [0.81856406 0.36898588 0.36260348]\n",
      " [0.9030599  0.2995525  0.41914796]\n",
      " [0.70232687 0.39300963 0.34179568]\n",
      " [0.7440692  0.38438229 0.37460304]\n",
      " [0.9005487  0.32279689 0.3404465 ]\n",
      " [1.         0.19211296 0.33444109]\n",
      " [0.76637997 0.25078783 0.48366041]\n",
      " [0.75087591 0.16079663 0.54547303]\n",
      " [0.71910927 0.25500921 0.54176564]\n",
      " [0.91030363 0.13493476 0.4128317 ]\n",
      " [0.74070149 0.33220437 0.4451275 ]\n",
      " [0.86171036 0.36932981 0.42497329]\n",
      " [0.62457173 0.44313012 0.55606991]\n",
      " [0.7931488  0.48828916 0.43030582]\n",
      " [0.68955378 0.54574762 0.47620682]\n",
      " [0.70312085 0.51879034 0.55136962]\n",
      " [0.61334326 0.34851312 0.84648431]\n",
      " [0.7047153  0.38296507 0.45298678]\n",
      " [0.64189357 0.48801387 0.32205658]\n",
      " [0.75279029 0.38250554 0.60215092]\n",
      " [0.76066871 0.449937   0.35168658]\n",
      " [0.78907544 0.307878   0.60129003]\n",
      " [0.80969482 0.27660092 0.42825867]\n",
      " [0.68764427 0.46872134 0.44488763]\n",
      " [0.71954213 0.25478022 0.57974662]\n",
      " [0.66225386 0.38137317 0.51002784]\n",
      " [0.71967425 0.45193392 0.50711679]\n",
      " [0.65928341 0.38669267 0.50788247]\n",
      " [0.62871878 0.46040858 0.45777943]\n",
      " [0.67293714 0.58001828 0.31810099]\n",
      " [0.79251773 0.23177434 0.42716198]\n",
      " [0.79930133 0.37031545 0.44978682]\n",
      " [0.57591963 0.45284771 0.38283266]\n",
      " [0.85547355 0.31937338 0.4302227 ]\n",
      " [0.55191605 0.43108191 0.44142879]\n",
      " [0.74265993 0.48546907 0.39567328]\n",
      " [0.63034313 0.23527982 0.46460822]\n",
      " [0.81541895 0.31457896 0.40736219]\n",
      " [0.82644347 0.38836878 0.34535301]\n",
      " [0.73201213 0.30703927 0.45594802]\n",
      " [0.8131952  0.23868316 0.39695578]\n",
      " [0.8722434  0.45324963 0.26297819]\n",
      " [0.8308213  0.3749639  0.4621928 ]\n",
      " [0.90607007 0.25753193 0.40927537]\n",
      " [0.75702434 0.22200484 0.49591033]\n",
      " [0.74797049 0.3382132  0.3652705 ]\n",
      " [0.78548077 0.29594136 0.51342088]\n",
      " [0.81715481 0.28138304 0.40004126]\n",
      " [0.7510837  0.31175434 0.48807884]\n",
      " [0.86345327 0.24144323 0.43295134]\n",
      " [0.39007238 0.89193024 0.        ]\n",
      " [0.31863423 0.6628695  0.37363665]\n",
      " [0.28444883 0.58821554 0.30002277]\n",
      " [0.50169132 0.64680623 0.28202704]\n",
      " [0.73671465 0.73645802 0.46097551]\n",
      " [0.42718229 0.73416019 0.53012913]\n",
      " [0.60288744 0.57927094 0.51945523]\n",
      " [0.75978411 0.73098343 0.25711053]\n",
      " [0.51946971 0.80443178 0.35399379]\n",
      " [0.40354512 0.50570836 0.39052186]\n",
      " [0.72802881 0.66582606 0.3370227 ]\n",
      " [0.3151739  0.59566105 0.39837723]\n",
      " [0.6910309  0.60537139 0.65834346]\n",
      " [0.41371948 0.6198475  0.46980703]\n",
      " [0.79629109 0.44063177 0.80152019]\n",
      " [0.71138202 0.65020307 0.5078665 ]\n",
      " [0.39712301 0.80672707 0.30428935]\n",
      " [0.54118753 0.76744195 0.21506349]\n",
      " [0.32853751 0.66312784 0.43882766]\n",
      " [0.64509449 0.58021018 0.34246572]\n",
      " [0.54190156 0.61489249 0.64242093]\n",
      " [0.58680957 0.93275504 0.42572019]\n",
      " [0.61852151 0.67224644 0.42516213]\n",
      " [0.44054181 0.7982177  0.59622735]\n",
      " [0.20267381 0.48769388 0.50947483]\n",
      " [0.59533426 0.67535476 0.52315418]\n",
      " [0.58981661 0.75021133 0.43606681]\n",
      " [0.40424017 0.77826161 0.53954439]\n",
      " [0.43319132 0.79709976 0.69409482]\n",
      " [0.36836635 0.71983592 0.55831469]\n",
      " [0.43346127 0.83562142 0.54722492]\n",
      " [0.34111594 0.76258124 0.45691894]\n",
      " [0.31607385 0.72660026 0.54037127]\n",
      " [0.2732419  0.68697333 0.45272755]\n",
      " [0.58501774 0.78896997 0.47326584]\n",
      " [0.6095469  0.77686698 0.47606178]\n",
      " [0.79415434 0.4529407  0.54113961]\n",
      " [0.43483095 0.52579975 0.59352382]\n",
      " [0.61811093 0.82317086 0.35231768]\n",
      " [0.76018002 0.66981397 0.43853549]\n",
      " [0.66223378 0.76910501 0.53713168]\n",
      " [0.59095878 0.7976363  0.30380807]\n",
      " [0.43418172 0.78628913 0.31077424]\n",
      " [0.47937419 0.63349846 0.5627918 ]\n",
      " [0.4213506  0.83865669 0.38468975]\n",
      " [0.54378719 0.75997259 0.41420208]\n",
      " [0.29186737 0.70833461 0.55708412]\n",
      " [0.45550784 0.769533   0.41324803]\n",
      " [0.30953513 0.65936868 0.49063456]\n",
      " [0.5077342  0.78806335 0.41503538]\n",
      " [0.68179049 0.6737795  0.64092851]\n",
      " [0.66343857 0.66784632 0.47574267]\n",
      " [0.46569757 0.73720739 0.4696397 ]\n",
      " [0.3464852  0.57917087 0.66307761]\n",
      " [0.4449411  0.78307897 0.56859475]\n",
      " [0.44062221 0.73835496 0.59503857]\n",
      " [0.55422773 1.         0.59708613]\n",
      " [0.46870148 0.85781651 0.43124161]\n",
      " [0.48565179 0.73698456 0.53121571]\n",
      " [0.21500469 0.64604202 0.27008202]\n",
      " [0.43400044 0.77668194 0.42584518]\n",
      " [0.58419804 0.66659411 0.57504023]\n",
      " [0.65363485 0.44156066 1.        ]\n",
      " [0.36115433 0.56574091 0.76484794]\n",
      " [0.44432863 0.55955715 0.51040036]\n",
      " [0.61199281 0.67155071 0.61087863]\n",
      " [0.48686411 0.76149776 0.50550469]\n",
      " [0.50260834 0.64734448 0.53095688]\n",
      " [0.31227142 0.63940898 0.8001891 ]\n",
      " [0.44232362 0.73832729 0.5922763 ]\n",
      " [0.2895011  0.63157678 0.5405458 ]\n",
      " [0.34369741 0.45278973 0.34288979]\n",
      " [0.22064991 0.42514699 0.38882836]\n",
      " [0.15636362 0.44013585 0.44483616]\n",
      " [0.2483094  0.4260036  0.41606995]\n",
      " [0.22235253 0.5380794  0.3508062 ]\n",
      " [0.14159634 0.42801286 0.35103536]\n",
      " [0.04246096 0.45492957 0.48405568]\n",
      " [0.04005103 0.38655088 0.63413824]\n",
      " [0.13805473 0.42863153 0.35831526]\n",
      " [0.22181699 0.4363293  0.58677875]\n",
      " [0.17476457 0.43702993 0.52311154]\n",
      " [0.23204695 0.42542787 0.36387275]\n",
      " [0.15069726 0.40962821 0.55707604]\n",
      " [0.22173285 0.41056016 0.43625204]\n",
      " [0.24097188 0.3188138  0.336333  ]\n",
      " [0.19259122 0.39961818 0.37552197]\n",
      " [0.         0.38790683 0.3148766 ]\n",
      " [0.08122461 0.30356374 0.45056155]\n",
      " [0.17147708 0.26324478 0.41413382]\n",
      " [0.16070191 0.19954757 0.41177422]\n",
      " [0.22806999 0.15686252 0.50579225]\n",
      " [0.20141076 0.19897547 0.43027205]\n",
      " [0.28720774 0.26905073 0.59893081]\n",
      " [0.17693697 0.18629767 0.3645791 ]\n",
      " [0.17961275 0.42036775 0.34184338]\n",
      " [0.07863804 0.23185797 0.452248  ]\n",
      " [0.1618462  0.21522923 0.38293739]\n",
      " [0.10339102 0.2982606  0.62304212]\n",
      " [0.37615476 0.         0.57853383]\n",
      " [0.31078728 0.15005693 0.5169577 ]\n",
      " [0.13236959 0.37592747 0.45255394]\n",
      " [0.23744694 0.31672729 0.45150885]\n",
      " [0.16675137 0.40058161 0.5427023 ]\n",
      " [0.19586395 0.38136894 0.37260383]\n",
      " [0.1549254  0.26530585 0.36268875]\n",
      " [0.08734663 0.35638391 0.41478825]\n",
      " [0.21813523 0.1249153  0.50484007]\n",
      " [0.15727773 0.30332762 0.33953194]\n",
      " [0.24428288 0.19460904 0.53863071]\n",
      " [0.2210657  0.12541466 0.60451507]\n",
      " [0.12439997 0.50986913 0.37641134]\n",
      " [0.07013737 0.36109212 0.32683746]\n",
      " [0.2112177  0.17887018 0.36919598]\n",
      " [0.10590828 0.17582548 0.42722068]\n",
      " [0.19534509 0.23797082 0.48262106]\n",
      " [0.18651466 0.10209875 0.36696437]\n",
      " [0.2203571  0.16485229 0.40626225]\n",
      " [0.12473268 0.10101298 0.56381901]]\n"
     ]
    }
   ],
   "source": [
    "#  Normalizing Dataset\n",
    "from sklearn.preprocessing import MinMaxScaler\n",
    "scaler = MinMaxScaler()\n",
    "pca_df_normal = scaler.fit_transform(pca_df)\n",
    "print(pca_df_normal)"
   ]
  },
  {
   "cell_type": "code",
   "execution_count": 42,
   "id": "6d2deb1f",
   "metadata": {},
   "outputs": [
    {
     "data": {
      "text/html": [
       "<style>#sk-container-id-3 {color: black;}#sk-container-id-3 pre{padding: 0;}#sk-container-id-3 div.sk-toggleable {background-color: white;}#sk-container-id-3 label.sk-toggleable__label {cursor: pointer;display: block;width: 100%;margin-bottom: 0;padding: 0.3em;box-sizing: border-box;text-align: center;}#sk-container-id-3 label.sk-toggleable__label-arrow:before {content: \"▸\";float: left;margin-right: 0.25em;color: #696969;}#sk-container-id-3 label.sk-toggleable__label-arrow:hover:before {color: black;}#sk-container-id-3 div.sk-estimator:hover label.sk-toggleable__label-arrow:before {color: black;}#sk-container-id-3 div.sk-toggleable__content {max-height: 0;max-width: 0;overflow: hidden;text-align: left;background-color: #f0f8ff;}#sk-container-id-3 div.sk-toggleable__content pre {margin: 0.2em;color: black;border-radius: 0.25em;background-color: #f0f8ff;}#sk-container-id-3 input.sk-toggleable__control:checked~div.sk-toggleable__content {max-height: 200px;max-width: 100%;overflow: auto;}#sk-container-id-3 input.sk-toggleable__control:checked~label.sk-toggleable__label-arrow:before {content: \"▾\";}#sk-container-id-3 div.sk-estimator input.sk-toggleable__control:checked~label.sk-toggleable__label {background-color: #d4ebff;}#sk-container-id-3 div.sk-label input.sk-toggleable__control:checked~label.sk-toggleable__label {background-color: #d4ebff;}#sk-container-id-3 input.sk-hidden--visually {border: 0;clip: rect(1px 1px 1px 1px);clip: rect(1px, 1px, 1px, 1px);height: 1px;margin: -1px;overflow: hidden;padding: 0;position: absolute;width: 1px;}#sk-container-id-3 div.sk-estimator {font-family: monospace;background-color: #f0f8ff;border: 1px dotted black;border-radius: 0.25em;box-sizing: border-box;margin-bottom: 0.5em;}#sk-container-id-3 div.sk-estimator:hover {background-color: #d4ebff;}#sk-container-id-3 div.sk-parallel-item::after {content: \"\";width: 100%;border-bottom: 1px solid gray;flex-grow: 1;}#sk-container-id-3 div.sk-label:hover label.sk-toggleable__label {background-color: #d4ebff;}#sk-container-id-3 div.sk-serial::before {content: \"\";position: absolute;border-left: 1px solid gray;box-sizing: border-box;top: 0;bottom: 0;left: 50%;z-index: 0;}#sk-container-id-3 div.sk-serial {display: flex;flex-direction: column;align-items: center;background-color: white;padding-right: 0.2em;padding-left: 0.2em;position: relative;}#sk-container-id-3 div.sk-item {position: relative;z-index: 1;}#sk-container-id-3 div.sk-parallel {display: flex;align-items: stretch;justify-content: center;background-color: white;position: relative;}#sk-container-id-3 div.sk-item::before, #sk-container-id-3 div.sk-parallel-item::before {content: \"\";position: absolute;border-left: 1px solid gray;box-sizing: border-box;top: 0;bottom: 0;left: 50%;z-index: -1;}#sk-container-id-3 div.sk-parallel-item {display: flex;flex-direction: column;z-index: 1;position: relative;background-color: white;}#sk-container-id-3 div.sk-parallel-item:first-child::after {align-self: flex-end;width: 50%;}#sk-container-id-3 div.sk-parallel-item:last-child::after {align-self: flex-start;width: 50%;}#sk-container-id-3 div.sk-parallel-item:only-child::after {width: 0;}#sk-container-id-3 div.sk-dashed-wrapped {border: 1px dashed gray;margin: 0 0.4em 0.5em 0.4em;box-sizing: border-box;padding-bottom: 0.4em;background-color: white;}#sk-container-id-3 div.sk-label label {font-family: monospace;font-weight: bold;display: inline-block;line-height: 1.2em;}#sk-container-id-3 div.sk-label-container {text-align: center;}#sk-container-id-3 div.sk-container {/* jupyter's `normalize.less` sets `[hidden] { display: none; }` but bootstrap.min.css set `[hidden] { display: none !important; }` so we also need the `!important` here to be able to override the default hidden behavior on the sphinx rendered scikit-learn.org. See: https://github.com/scikit-learn/scikit-learn/issues/21755 */display: inline-block !important;position: relative;}#sk-container-id-3 div.sk-text-repr-fallback {display: none;}</style><div id=\"sk-container-id-3\" class=\"sk-top-container\"><div class=\"sk-text-repr-fallback\"><pre>AgglomerativeClustering(affinity=&#x27;euclidean&#x27;, n_clusters=3)</pre><b>In a Jupyter environment, please rerun this cell to show the HTML representation or trust the notebook. <br />On GitHub, the HTML representation is unable to render, please try loading this page with nbviewer.org.</b></div><div class=\"sk-container\" hidden><div class=\"sk-item\"><div class=\"sk-estimator sk-toggleable\"><input class=\"sk-toggleable__control sk-hidden--visually\" id=\"sk-estimator-id-3\" type=\"checkbox\" checked><label for=\"sk-estimator-id-3\" class=\"sk-toggleable__label sk-toggleable__label-arrow\">AgglomerativeClustering</label><div class=\"sk-toggleable__content\"><pre>AgglomerativeClustering(affinity=&#x27;euclidean&#x27;, n_clusters=3)</pre></div></div></div></div></div>"
      ],
      "text/plain": [
       "AgglomerativeClustering(affinity='euclidean', n_clusters=3)"
      ]
     },
     "execution_count": 42,
     "metadata": {},
     "output_type": "execute_result"
    }
   ],
   "source": [
    "# Creating clusters\n",
    "from sklearn.cluster import AgglomerativeClustering\n",
    "H_clusters=AgglomerativeClustering(n_clusters=3,affinity='euclidean',linkage='ward')\n",
    "H_clusters"
   ]
  },
  {
   "cell_type": "code",
   "execution_count": 43,
   "id": "a913163f",
   "metadata": {},
   "outputs": [
    {
     "data": {
      "text/plain": [
       "0    66\n",
       "2    65\n",
       "1    47\n",
       "Name: clustersid_H, dtype: int64"
      ]
     },
     "execution_count": 43,
     "metadata": {},
     "output_type": "execute_result"
    }
   ],
   "source": [
    "y=pd.DataFrame(H_clusters.fit_predict(pca_df_normal),columns=['clustersid_H'])\n",
    "y['clustersid_H'].value_counts()"
   ]
  },
  {
   "cell_type": "code",
   "execution_count": 44,
   "id": "16522979",
   "metadata": {},
   "outputs": [
    {
     "data": {
      "image/png": "[encoded data removed]",
      "text/plain": [
       "<Figure size 800x550 with 1 Axes>"
      ]
     },
     "metadata": {},
     "output_type": "display_data"
    }
   ],
   "source": [
    "#Performing K-MEANS Clustering\n",
    "from sklearn.cluster import KMeans\n",
    "from yellowbrick.cluster import KElbowVisualizer\n",
    "wcss = []\n",
    "for i in range(1, 11):\n",
    "    kmeans = KMeans(n_clusters=i,random_state=0)\n",
    "    kmeans.fit(pca_df_normal)\n",
    "    wcss.append(kmeans.inertia_)\n",
    "    \n",
    "plt.plot(range(1, 11), wcss)\n",
    "plt.title('Elbow Method')\n",
    "plt.xlabel('Number of clusters')\n",
    "plt.ylabel('WCSS')\n",
    "plt.show()\n"
   ]
  },
  {
   "cell_type": "code",
   "execution_count": 45,
   "id": "824b74d0",
   "metadata": {},
   "outputs": [
    {
     "data": {
      "text/html": [
       "<style>#sk-container-id-4 {color: black;}#sk-container-id-4 pre{padding: 0;}#sk-container-id-4 div.sk-toggleable {background-color: white;}#sk-container-id-4 label.sk-toggleable__label {cursor: pointer;display: block;width: 100%;margin-bottom: 0;padding: 0.3em;box-sizing: border-box;text-align: center;}#sk-container-id-4 label.sk-toggleable__label-arrow:before {content: \"▸\";float: left;margin-right: 0.25em;color: #696969;}#sk-container-id-4 label.sk-toggleable__label-arrow:hover:before {color: black;}#sk-container-id-4 div.sk-estimator:hover label.sk-toggleable__label-arrow:before {color: black;}#sk-container-id-4 div.sk-toggleable__content {max-height: 0;max-width: 0;overflow: hidden;text-align: left;background-color: #f0f8ff;}#sk-container-id-4 div.sk-toggleable__content pre {margin: 0.2em;color: black;border-radius: 0.25em;background-color: #f0f8ff;}#sk-container-id-4 input.sk-toggleable__control:checked~div.sk-toggleable__content {max-height: 200px;max-width: 100%;overflow: auto;}#sk-container-id-4 input.sk-toggleable__control:checked~label.sk-toggleable__label-arrow:before {content: \"▾\";}#sk-container-id-4 div.sk-estimator input.sk-toggleable__control:checked~label.sk-toggleable__label {background-color: #d4ebff;}#sk-container-id-4 div.sk-label input.sk-toggleable__control:checked~label.sk-toggleable__label {background-color: #d4ebff;}#sk-container-id-4 input.sk-hidden--visually {border: 0;clip: rect(1px 1px 1px 1px);clip: rect(1px, 1px, 1px, 1px);height: 1px;margin: -1px;overflow: hidden;padding: 0;position: absolute;width: 1px;}#sk-container-id-4 div.sk-estimator {font-family: monospace;background-color: #f0f8ff;border: 1px dotted black;border-radius: 0.25em;box-sizing: border-box;margin-bottom: 0.5em;}#sk-container-id-4 div.sk-estimator:hover {background-color: #d4ebff;}#sk-container-id-4 div.sk-parallel-item::after {content: \"\";width: 100%;border-bottom: 1px solid gray;flex-grow: 1;}#sk-container-id-4 div.sk-label:hover label.sk-toggleable__label {background-color: #d4ebff;}#sk-container-id-4 div.sk-serial::before {content: \"\";position: absolute;border-left: 1px solid gray;box-sizing: border-box;top: 0;bottom: 0;left: 50%;z-index: 0;}#sk-container-id-4 div.sk-serial {display: flex;flex-direction: column;align-items: center;background-color: white;padding-right: 0.2em;padding-left: 0.2em;position: relative;}#sk-container-id-4 div.sk-item {position: relative;z-index: 1;}#sk-container-id-4 div.sk-parallel {display: flex;align-items: stretch;justify-content: center;background-color: white;position: relative;}#sk-container-id-4 div.sk-item::before, #sk-container-id-4 div.sk-parallel-item::before {content: \"\";position: absolute;border-left: 1px solid gray;box-sizing: border-box;top: 0;bottom: 0;left: 50%;z-index: -1;}#sk-container-id-4 div.sk-parallel-item {display: flex;flex-direction: column;z-index: 1;position: relative;background-color: white;}#sk-container-id-4 div.sk-parallel-item:first-child::after {align-self: flex-end;width: 50%;}#sk-container-id-4 div.sk-parallel-item:last-child::after {align-self: flex-start;width: 50%;}#sk-container-id-4 div.sk-parallel-item:only-child::after {width: 0;}#sk-container-id-4 div.sk-dashed-wrapped {border: 1px dashed gray;margin: 0 0.4em 0.5em 0.4em;box-sizing: border-box;padding-bottom: 0.4em;background-color: white;}#sk-container-id-4 div.sk-label label {font-family: monospace;font-weight: bold;display: inline-block;line-height: 1.2em;}#sk-container-id-4 div.sk-label-container {text-align: center;}#sk-container-id-4 div.sk-container {/* jupyter's `normalize.less` sets `[hidden] { display: none; }` but bootstrap.min.css set `[hidden] { display: none !important; }` so we also need the `!important` here to be able to override the default hidden behavior on the sphinx rendered scikit-learn.org. See: https://github.com/scikit-learn/scikit-learn/issues/21755 */display: inline-block !important;position: relative;}#sk-container-id-4 div.sk-text-repr-fallback {display: none;}</style><div id=\"sk-container-id-4\" class=\"sk-top-container\"><div class=\"sk-text-repr-fallback\"><pre>KMeans(n_clusters=3, random_state=42)</pre><b>In a Jupyter environment, please rerun this cell to show the HTML representation or trust the notebook. <br />On GitHub, the HTML representation is unable to render, please try loading this page with nbviewer.org.</b></div><div class=\"sk-container\" hidden><div class=\"sk-item\"><div class=\"sk-estimator sk-toggleable\"><input class=\"sk-toggleable__control sk-hidden--visually\" id=\"sk-estimator-id-4\" type=\"checkbox\" checked><label for=\"sk-estimator-id-4\" class=\"sk-toggleable__label sk-toggleable__label-arrow\">KMeans</label><div class=\"sk-toggleable__content\"><pre>KMeans(n_clusters=3, random_state=42)</pre></div></div></div></div></div>"
      ],
      "text/plain": [
       "KMeans(n_clusters=3, random_state=42)"
      ]
     },
     "execution_count": 45,
     "metadata": {},
     "output_type": "execute_result"
    }
   ],
   "source": [
    "#Build Cluster algorithm\n",
    "\n",
    "KM_clusters = KMeans(3, random_state=42)\n",
    "KM_clusters.fit(pca_df_normal)\n",
    "\n"
   ]
  },
  {
   "cell_type": "code",
   "execution_count": 46,
   "id": "d1e6d9b9",
   "metadata": {},
   "outputs": [
    {
     "data": {
      "text/plain": [
       "0    68\n",
       "2    61\n",
       "1    49\n",
       "Name: clusterid_Kmeans, dtype: int64"
      ]
     },
     "execution_count": 46,
     "metadata": {},
     "output_type": "execute_result"
    }
   ],
   "source": [
    "y=pd.DataFrame(KM_clusters.fit_predict(pca_df_normal),columns=['clusterid_Kmeans'])\n",
    "y['clusterid_Kmeans'].value_counts()"
   ]
  },
  {
   "cell_type": "code",
   "execution_count": 47,
   "id": "145e0187",
   "metadata": {},
   "outputs": [
    {
     "data": {
      "text/html": [
       "<div>\n",
       "<style scoped>\n",
       "    .dataframe tbody tr th:only-of-type {\n",
       "        vertical-align: middle;\n",
       "    }\n",
       "\n",
       "    .dataframe tbody tr th {\n",
       "        vertical-align: top;\n",
       "    }\n",
       "\n",
       "    .dataframe thead th {\n",
       "        text-align: right;\n",
       "    }\n",
       "</style>\n",
       "<table border=\"1\" class=\"dataframe\">\n",
       "  <thead>\n",
       "    <tr style=\"text-align: right;\">\n",
       "      <th></th>\n",
       "      <th>class</th>\n",
       "      <th>0</th>\n",
       "      <th>1</th>\n",
       "    </tr>\n",
       "  </thead>\n",
       "  <tbody>\n",
       "    <tr>\n",
       "      <th>0</th>\n",
       "      <td>1</td>\n",
       "      <td>0</td>\n",
       "      <td>2</td>\n",
       "    </tr>\n",
       "    <tr>\n",
       "      <th>1</th>\n",
       "      <td>1</td>\n",
       "      <td>0</td>\n",
       "      <td>2</td>\n",
       "    </tr>\n",
       "    <tr>\n",
       "      <th>2</th>\n",
       "      <td>1</td>\n",
       "      <td>0</td>\n",
       "      <td>2</td>\n",
       "    </tr>\n",
       "    <tr>\n",
       "      <th>3</th>\n",
       "      <td>1</td>\n",
       "      <td>0</td>\n",
       "      <td>2</td>\n",
       "    </tr>\n",
       "    <tr>\n",
       "      <th>4</th>\n",
       "      <td>1</td>\n",
       "      <td>0</td>\n",
       "      <td>2</td>\n",
       "    </tr>\n",
       "    <tr>\n",
       "      <th>...</th>\n",
       "      <td>...</td>\n",
       "      <td>...</td>\n",
       "      <td>...</td>\n",
       "    </tr>\n",
       "    <tr>\n",
       "      <th>173</th>\n",
       "      <td>3</td>\n",
       "      <td>1</td>\n",
       "      <td>1</td>\n",
       "    </tr>\n",
       "    <tr>\n",
       "      <th>174</th>\n",
       "      <td>3</td>\n",
       "      <td>1</td>\n",
       "      <td>1</td>\n",
       "    </tr>\n",
       "    <tr>\n",
       "      <th>175</th>\n",
       "      <td>3</td>\n",
       "      <td>1</td>\n",
       "      <td>1</td>\n",
       "    </tr>\n",
       "    <tr>\n",
       "      <th>176</th>\n",
       "      <td>3</td>\n",
       "      <td>1</td>\n",
       "      <td>1</td>\n",
       "    </tr>\n",
       "    <tr>\n",
       "      <th>177</th>\n",
       "      <td>3</td>\n",
       "      <td>1</td>\n",
       "      <td>1</td>\n",
       "    </tr>\n",
       "  </tbody>\n",
       "</table>\n",
       "<p>178 rows × 3 columns</p>\n",
       "</div>"
      ],
      "text/plain": [
       "     class  0  1\n",
       "0        1  0  2\n",
       "1        1  0  2\n",
       "2        1  0  2\n",
       "3        1  0  2\n",
       "4        1  0  2\n",
       "..     ... .. ..\n",
       "173      3  1  1\n",
       "174      3  1  1\n",
       "175      3  1  1\n",
       "176      3  1  1\n",
       "177      3  1  1\n",
       "\n",
       "[178 rows x 3 columns]"
      ]
     },
     "execution_count": 47,
     "metadata": {},
     "output_type": "execute_result"
    }
   ],
   "source": [
    "#Preparing Actual Vs. Predicted Clusering Data\n",
    "wine_class = df['class']\n",
    "wine_class = pd.Series(wine_class)\n",
    "clustersid_HC = H_clusters.labels_\n",
    "clustersid_HC = pd.Series(clustersid_HC)\n",
    "clusterid_Kmeans = KM_clusters.labels_\n",
    "clusterid_Kmeans = pd.Series(clusterid_Kmeans)\n",
    "pred_df = pd.concat([wine_class, clustersid_HC, clusterid_Kmeans],axis = 1)\n",
    "pred_df\n"
   ]
  },
  {
   "cell_type": "code",
   "execution_count": null,
   "id": "c0b59432",
   "metadata": {},
   "outputs": [],
   "source": []
  },
  {
   "cell_type": "code",
   "execution_count": null,
   "id": "00c2dc53",
   "metadata": {},
   "outputs": [],
   "source": []
  },
  {
   "cell_type": "code",
   "execution_count": null,
   "id": "0b27fa87",
   "metadata": {},
   "outputs": [],
   "source": []
  },
  {
   "cell_type": "code",
   "execution_count": null,
   "id": "5d80f6d7",
   "metadata": {},
   "outputs": [],
   "source": []
  }
 ],
 "metadata": {
  "kernelspec": {
   "display_name": "Python 3 (ipykernel)",
   "language": "python",
   "name": "python3"
  },
  "language_info": {
   "codemirror_mode": {
    "name": "ipython",
    "version": 3
   },
   "file_extension": ".py",
   "mimetype": "text/x-python",
   "name": "python",
   "nbconvert_exporter": "python",
   "pygments_lexer": "ipython3",
   "version": "3.11.4"
  }
 },
 "nbformat": 4,
 "nbformat_minor": 5
}
