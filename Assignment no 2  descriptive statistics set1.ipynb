{
 "cells": [
  {
   "cell_type": "code",
   "execution_count": 36,
   "id": "1f7818a0",
   "metadata": {},
   "outputs": [],
   "source": [
    "import pandas as pd\n",
    "import numpy as np\n"
   ]
  },
  {
   "cell_type": "code",
   "execution_count": 37,
   "id": "2fe79aa2",
   "metadata": {},
   "outputs": [],
   "source": [
    "df=pd.read_csv(\"C:\\\\Users\\\\DELL\\\\Documents\\\\Set+1_Descriptive+statistics+Probability.csv\")"
   ]
  },
  {
   "cell_type": "code",
   "execution_count": 38,
   "id": "38bf4a6a",
   "metadata": {},
   "outputs": [],
   "source": [
    "#find mean,sd,var,outliers"
   ]
  },
  {
   "cell_type": "code",
   "execution_count": 39,
   "id": "1f1c336a",
   "metadata": {},
   "outputs": [
    {
     "data": {
      "text/html": [
       "<div>\n",
       "<style scoped>\n",
       "    .dataframe tbody tr th:only-of-type {\n",
       "        vertical-align: middle;\n",
       "    }\n",
       "\n",
       "    .dataframe tbody tr th {\n",
       "        vertical-align: top;\n",
       "    }\n",
       "\n",
       "    .dataframe thead th {\n",
       "        text-align: right;\n",
       "    }\n",
       "</style>\n",
       "<table border=\"1\" class=\"dataframe\">\n",
       "  <thead>\n",
       "    <tr style=\"text-align: right;\">\n",
       "      <th></th>\n",
       "      <th>Name of company</th>\n",
       "      <th>Measure X</th>\n",
       "    </tr>\n",
       "  </thead>\n",
       "  <tbody>\n",
       "    <tr>\n",
       "      <th>0</th>\n",
       "      <td>Allied Signal</td>\n",
       "      <td>24.23</td>\n",
       "    </tr>\n",
       "    <tr>\n",
       "      <th>1</th>\n",
       "      <td>Bankers Trust</td>\n",
       "      <td>25.53</td>\n",
       "    </tr>\n",
       "    <tr>\n",
       "      <th>2</th>\n",
       "      <td>General Mills</td>\n",
       "      <td>25.41</td>\n",
       "    </tr>\n",
       "    <tr>\n",
       "      <th>3</th>\n",
       "      <td>ITT Industries</td>\n",
       "      <td>24.14</td>\n",
       "    </tr>\n",
       "    <tr>\n",
       "      <th>4</th>\n",
       "      <td>J.P.Morgan &amp; Co.</td>\n",
       "      <td>29.62</td>\n",
       "    </tr>\n",
       "    <tr>\n",
       "      <th>5</th>\n",
       "      <td>Lehman Brothers</td>\n",
       "      <td>28.25</td>\n",
       "    </tr>\n",
       "    <tr>\n",
       "      <th>6</th>\n",
       "      <td>Marriott</td>\n",
       "      <td>25.81</td>\n",
       "    </tr>\n",
       "    <tr>\n",
       "      <th>7</th>\n",
       "      <td>MCI</td>\n",
       "      <td>24.39</td>\n",
       "    </tr>\n",
       "    <tr>\n",
       "      <th>8</th>\n",
       "      <td>Merrill Lynch</td>\n",
       "      <td>40.26</td>\n",
       "    </tr>\n",
       "    <tr>\n",
       "      <th>9</th>\n",
       "      <td>Microsoft</td>\n",
       "      <td>32.95</td>\n",
       "    </tr>\n",
       "    <tr>\n",
       "      <th>10</th>\n",
       "      <td>Morgan Stanley</td>\n",
       "      <td>91.36</td>\n",
       "    </tr>\n",
       "    <tr>\n",
       "      <th>11</th>\n",
       "      <td>Sun Microsystems</td>\n",
       "      <td>25.99</td>\n",
       "    </tr>\n",
       "    <tr>\n",
       "      <th>12</th>\n",
       "      <td>Travelers</td>\n",
       "      <td>39.42</td>\n",
       "    </tr>\n",
       "    <tr>\n",
       "      <th>13</th>\n",
       "      <td>US Airways</td>\n",
       "      <td>26.71</td>\n",
       "    </tr>\n",
       "    <tr>\n",
       "      <th>14</th>\n",
       "      <td>Warner-Lambert</td>\n",
       "      <td>35.00</td>\n",
       "    </tr>\n",
       "  </tbody>\n",
       "</table>\n",
       "</div>"
      ],
      "text/plain": [
       "     Name of company  Measure X\n",
       "0      Allied Signal      24.23\n",
       "1      Bankers Trust      25.53\n",
       "2      General Mills      25.41\n",
       "3     ITT Industries      24.14\n",
       "4   J.P.Morgan & Co.      29.62\n",
       "5    Lehman Brothers      28.25\n",
       "6           Marriott      25.81\n",
       "7                MCI      24.39\n",
       "8      Merrill Lynch      40.26\n",
       "9          Microsoft      32.95\n",
       "10    Morgan Stanley      91.36\n",
       "11  Sun Microsystems      25.99\n",
       "12         Travelers      39.42\n",
       "13        US Airways      26.71\n",
       "14    Warner-Lambert      35.00"
      ]
     },
     "execution_count": 39,
     "metadata": {},
     "output_type": "execute_result"
    }
   ],
   "source": [
    "df"
   ]
  },
  {
   "cell_type": "code",
   "execution_count": 40,
   "id": "2e83038e",
   "metadata": {},
   "outputs": [
    {
     "data": {
      "text/html": [
       "<div>\n",
       "<style scoped>\n",
       "    .dataframe tbody tr th:only-of-type {\n",
       "        vertical-align: middle;\n",
       "    }\n",
       "\n",
       "    .dataframe tbody tr th {\n",
       "        vertical-align: top;\n",
       "    }\n",
       "\n",
       "    .dataframe thead th {\n",
       "        text-align: right;\n",
       "    }\n",
       "</style>\n",
       "<table border=\"1\" class=\"dataframe\">\n",
       "  <thead>\n",
       "    <tr style=\"text-align: right;\">\n",
       "      <th></th>\n",
       "      <th>Measure X</th>\n",
       "    </tr>\n",
       "  </thead>\n",
       "  <tbody>\n",
       "    <tr>\n",
       "      <th>count</th>\n",
       "      <td>15.000000</td>\n",
       "    </tr>\n",
       "    <tr>\n",
       "      <th>mean</th>\n",
       "      <td>33.271333</td>\n",
       "    </tr>\n",
       "    <tr>\n",
       "      <th>std</th>\n",
       "      <td>16.945401</td>\n",
       "    </tr>\n",
       "    <tr>\n",
       "      <th>min</th>\n",
       "      <td>24.140000</td>\n",
       "    </tr>\n",
       "    <tr>\n",
       "      <th>25%</th>\n",
       "      <td>25.470000</td>\n",
       "    </tr>\n",
       "    <tr>\n",
       "      <th>50%</th>\n",
       "      <td>26.710000</td>\n",
       "    </tr>\n",
       "    <tr>\n",
       "      <th>75%</th>\n",
       "      <td>33.975000</td>\n",
       "    </tr>\n",
       "    <tr>\n",
       "      <th>max</th>\n",
       "      <td>91.360000</td>\n",
       "    </tr>\n",
       "  </tbody>\n",
       "</table>\n",
       "</div>"
      ],
      "text/plain": [
       "       Measure X\n",
       "count  15.000000\n",
       "mean   33.271333\n",
       "std    16.945401\n",
       "min    24.140000\n",
       "25%    25.470000\n",
       "50%    26.710000\n",
       "75%    33.975000\n",
       "max    91.360000"
      ]
     },
     "execution_count": 40,
     "metadata": {},
     "output_type": "execute_result"
    }
   ],
   "source": [
    "df.describe()"
   ]
  },
  {
   "cell_type": "code",
   "execution_count": 41,
   "id": "a7ab7f13",
   "metadata": {},
   "outputs": [
    {
     "name": "stderr",
     "output_type": "stream",
     "text": [
      "C:\\Users\\DELL\\AppData\\Local\\Temp\\ipykernel_1692\\1568254755.py:1: FutureWarning: The default value of numeric_only in DataFrame.var is deprecated. In a future version, it will default to False. In addition, specifying 'numeric_only=None' is deprecated. Select only valid columns or specify the value of numeric_only to silence this warning.\n",
      "  df.var()\n"
     ]
    },
    {
     "data": {
      "text/plain": [
       "Measure X    287.146612\n",
       "dtype: float64"
      ]
     },
     "execution_count": 41,
     "metadata": {},
     "output_type": "execute_result"
    }
   ],
   "source": [
    "df.var()"
   ]
  },
  {
   "cell_type": "code",
   "execution_count": 46,
   "id": "c6a657d6",
   "metadata": {},
   "outputs": [
    {
     "name": "stdout",
     "output_type": "stream",
     "text": [
      "first quartile 25.47\n",
      "second quartile 26.71\n",
      "third quartile 33.975\n"
     ]
    }
   ],
   "source": [
    "q1=np.percentile(df[\"Measure X\"],25)\n",
    "q2=np.percentile(df[\"Measure X\"],50)\n",
    "q3=np.percentile(df[\"Measure X\"],75)\n",
    "print(\"first quartile\",q1)\n",
    "print(\"second quartile\",q2)\n",
    "print(\"third quartile\",q3)"
   ]
  },
  {
   "cell_type": "code",
   "execution_count": 47,
   "id": "dd8304ba",
   "metadata": {},
   "outputs": [
    {
     "name": "stdout",
     "output_type": "stream",
     "text": [
      "iqr 8.505000000000003\n"
     ]
    }
   ],
   "source": [
    "iqr=q3-q1\n",
    "print(\"iqr\",iqr)"
   ]
  },
  {
   "cell_type": "code",
   "execution_count": 51,
   "id": "9360f0a0",
   "metadata": {},
   "outputs": [
    {
     "name": "stdout",
     "output_type": "stream",
     "text": [
      "mean 33.27133333333333\n",
      "sd 16.370812590976932\n",
      "outlier [91.36]\n"
     ]
    }
   ],
   "source": [
    "#outliers\n",
    "import numpy as np\n",
    "mean=np.mean(df[\"Measure X\"])\n",
    "print(\"mean\",mean)\n",
    "sd=np.std(df[\"Measure X\"])\n",
    "print(\"sd\",sd)\n",
    "data=df[\"Measure X\"]\n",
    "data\n",
    "def find_outlier(data):\n",
    "    posthres=2\n",
    "    negthres=-2\n",
    "    outlier=[]\n",
    "    for items in data:\n",
    "            zscore=(items-mean)/sd\n",
    "            if(zscore<negthres) or(zscore>posthres):\n",
    "                outlier.append(items)\n",
    "    return outlier\n",
    "outlier=find_outlier(data)\n",
    "print(\"outlier\",outlier)"
   ]
  },
  {
   "cell_type": "markdown",
   "id": "1839861f",
   "metadata": {},
   "source": [
    "2)ques:What is inter-quartile range of this dataset? (please approximate the numbers) In one line, explain what this value implies "
   ]
  },
  {
   "cell_type": "code",
   "execution_count": null,
   "id": "82a356b4",
   "metadata": {},
   "outputs": [],
   "source": [
    "ans:\n",
    "2)1.Approximately First Quantile Range, Q1 = 5 \n",
    "Third Quantile Range ,Q3 = 12, \n",
    "Median \n",
    "Second Quartile Range = 7 \n",
    "Inter-Quartile Range,IQR = Q3 – Q1 = 12 – 5 = 7 \n",
    "Second Quartile Range is the Median Value"
   ]
  },
  {
   "cell_type": "markdown",
   "id": "c81022a7",
   "metadata": {},
   "source": [
    "2)2.What can we say about the skewness of this dataset?"
   ]
  },
  {
   "cell_type": "code",
   "execution_count": 54,
   "id": "2cf0bf53",
   "metadata": {},
   "outputs": [],
   "source": [
    "#from scipy.stats import skew\n"
   ]
  },
  {
   "cell_type": "markdown",
   "id": "506b55a7",
   "metadata": {},
   "source": [
    "Right-Skewed, it is not normally distribution"
   ]
  },
  {
   "cell_type": "markdown",
   "id": "a6c16b7e",
   "metadata": {},
   "source": [
    "2)3.If it was found that the data point with the value 25 is actually 2.5, how would the new box-plot be affected?"
   ]
  },
  {
   "cell_type": "markdown",
   "id": "801f5083",
   "metadata": {},
   "source": [
    "In that case there would be no Outliers on the given dataset because of the outlier the data had positive skewness it will reduce and the data will get normal distributed"
   ]
  },
  {
   "cell_type": "markdown",
   "id": "9c34ab00",
   "metadata": {},
   "source": [
    "3)Answer the following three questions based on the histogram above. \n",
    "3)1.Where would the mode of this dataset lie? \n",
    "    The mode of this data set lie in between 5 to 10 and aprx between 4 to 8 ."
   ]
  },
  {
   "cell_type": "markdown",
   "id": "819ea86e",
   "metadata": {},
   "source": [
    "3)2.Comment on the skewness of the dataset.\t\n",
    "    Right-Skewed, Mean>Median>Mode"
   ]
  },
  {
   "cell_type": "markdown",
   "id": "e2ef717a",
   "metadata": {},
   "source": [
    " 3)3.Suppose that the above histogram and the box-plot in question 2 are plotted for the same dataset. Explain how these graphs complement each other in providing information about any dataset. \n",
    "     They both are right-skewed and both have outliers the median can be easily visualized in box plot where as in histogram mode is more visible.   "
   ]
  },
  {
   "cell_type": "markdown",
   "id": "ec7e2757",
   "metadata": {},
   "source": [
    "4)AT&T was running commercials in 1990 aimed at luring back customers who had switched to one of the other long-distance phone service providers. One such commercial shows a businessman trying to reach Phoenix and mistakenly getting Fiji, where a half-naked native on a beach responds incomprehensibly in Polynesian. When asked about this advertisement, AT&T admitted that the portrayed incident did not actually take place but added that this was an enactment of something that “could happen.” Suppose that one in 200 long-distance telephone calls is misdirected. What is the probability that at least one in five attempted telephone calls reaches the wrong number? (Assume independence of attempts.)\n",
    "Ans: IF 1 in 200 long-distance telephone calls are getting misdirected.\n",
    "probability of call misdirecting = 1/200 Probability of call not Misdirecting = 1-1/200 = 199/200 The probability for at least one in five attempted telephone calls reaches the wrong number Number of Calls = 5 n = 5 p = 1/200 q = 199/200 P(x) = at least one in five attempted telephone calls reaches the wrong number P(x) = ⁿCₓ pˣ qⁿ⁻ˣ P(x) = (nCx) (p^x) (q^n-x) # nCr = n! / r! * (n - r)! P(1) = (5C1) (1/200)^1 (199/200)^5-1 P(1) = 0.0245037"
   ]
  },
  {
   "cell_type": "markdown",
   "id": "2da1bb9f",
   "metadata": {},
   "source": [
    "5)Returns on a certain business venture, to the nearest $1,000, are known to follow the following probability distribution\n",
    "x P(x) -2,000 0.1 -1,000 0.1 0 0.2 1000 0.2 2000 0.3 3000 0.1 E(X) =Sum X.P(X) | E(X^2) =X^2P(X) -200 | 400000 -100 | 100000 0 | 0 200 | 200000\n",
    "600 | 1200000 300 | 900000 Total: 800 | 2800000 What is the most likely monetary outcome of the business venture? Ans: The most likely monetary outcome of the business venture is 2000$ As for 2000$ the probability is 0.3 which is maximum as compared to others\n",
    "\n",
    "5)1.Is the venture likely to be successful? Explain\n",
    "      Yes, the probability that the venture will make more than 0 or a profit p(x>0)+p(x>1000)+p(x>2000)+p(x=3000) = 0.2+0.2+0.3+0.1 = 0.8 this states that there is a good 80% chances for this venture to be making a profit\n"
   ]
  },
  {
   "cell_type": "markdown",
   "id": "8be96bfc",
   "metadata": {},
   "source": [
    "5)2.What is the long-term average earning of business ventures of this kind? Explain\n",
    "       The long-term average is Expected value = Sum (X * P(X)) = 800$ which means on an average the returns will be + 800$\n"
   ]
  },
  {
   "cell_type": "markdown",
   "id": "04a7de03",
   "metadata": {},
   "source": [
    "5)3.What is the good measure of the risk involved in a venture of this kind? Compute this measure\n",
    "        The good measure of the risk involved in a venture of this kind depends on the Variability in the distribution. Higher Variance means more chances of risk Var (X) = E(X^2) –(E(X))^2 = 2800000 – 800^2 = 2160000\n"
   ]
  }
 ],
 "metadata": {
  "kernelspec": {
   "display_name": "Python 3 (ipykernel)",
   "language": "python",
   "name": "python3"
  },
  "language_info": {
   "codemirror_mode": {
    "name": "ipython",
    "version": 3
   },
   "file_extension": ".py",
   "mimetype": "text/x-python",
   "name": "python",
   "nbconvert_exporter": "python",
   "pygments_lexer": "ipython3",
   "version": "3.11.4"
  }
 },
 "nbformat": 4,
 "nbformat_minor": 5
}
